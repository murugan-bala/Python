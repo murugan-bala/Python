{
 "cells": [
  {
   "cell_type": "markdown",
   "metadata": {},
   "source": [
    "\n",
    "## Python "
   ]
  },
  {
   "cell_type": "code",
   "execution_count": 7,
   "metadata": {},
   "outputs": [
    {
     "name": "stdout",
     "output_type": "stream",
     "text": [
      "Hello python \n"
     ]
    }
   ],
   "source": [
    "print(\"Hello python \")"
   ]
  },
  {
   "cell_type": "code",
   "execution_count": 8,
   "metadata": {},
   "outputs": [
    {
     "name": "stdout",
     "output_type": "stream",
     "text": [
      "My name is murugan and my mark is 100.0\n",
      "\n",
      "My name is murugan and my marks is 100.000000\n",
      "\n",
      "My name is murugan and my marks is 100.0\n"
     ]
    }
   ],
   "source": [
    "name=\"murugan\"\n",
    "marks=100.0\n",
    "print(\"My name is\",name,\"and my mark is\",marks)\n",
    "print()\n",
    "print(\"My name is %s and my marks is %2f\"%(name ,marks))\n",
    "print()\n",
    "print(\"My name is {} and my marks is {}\".format(name,marks))"
   ]
  },
  {
   "cell_type": "code",
   "execution_count": 9,
   "metadata": {},
   "outputs": [
    {
     "name": "stdout",
     "output_type": "stream",
     "text": [
      "30\n"
     ]
    }
   ],
   "source": [
    "a=10\n",
    "b=20\n",
    "c=a+b\n",
    "print(c)"
   ]
  },
  {
   "cell_type": "code",
   "execution_count": 10,
   "metadata": {},
   "outputs": [
    {
     "data": {
      "text/plain": [
       "float"
      ]
     },
     "execution_count": 10,
     "metadata": {},
     "output_type": "execute_result"
    }
   ],
   "source": [
    "b=10.5\n",
    "type(b)\n"
   ]
  },
  {
   "cell_type": "code",
   "execution_count": 12,
   "metadata": {},
   "outputs": [
    {
     "name": "stdout",
     "output_type": "stream",
     "text": [
      "Enter any number 66\n",
      "66\n",
      "66\n"
     ]
    }
   ],
   "source": [
    "z=int(input(\"Enter any number \"))\n",
    "z=abs(z)\n",
    "print(z)\n",
    "print(abs(z))"
   ]
  },
  {
   "cell_type": "code",
   "execution_count": 13,
   "metadata": {},
   "outputs": [
    {
     "name": "stdout",
     "output_type": "stream",
     "text": [
      "<class 'complex'>\n",
      "10\n",
      "255\n",
      "8\n"
     ]
    }
   ],
   "source": [
    "# complex\n",
    "c= 5+3j\n",
    "print(type(c))\n",
    "\n",
    "#binary \n",
    "\n",
    "de=0b1010\n",
    "print(de)\n",
    "\n",
    "# hexadecimal \n",
    "v=0xff\n",
    "print(v)\n",
    "\n",
    "\n",
    "#octal \n",
    "ve=0O10\n",
    "print(ve)"
   ]
  },
  {
   "cell_type": "code",
   "execution_count": 14,
   "metadata": {},
   "outputs": [
    {
     "data": {
      "text/plain": [
       "str"
      ]
     },
     "execution_count": 14,
     "metadata": {},
     "output_type": "execute_result"
    }
   ],
   "source": [
    "a=\"Murugan\"\n",
    "type(a)"
   ]
  },
  {
   "cell_type": "code",
   "execution_count": 15,
   "metadata": {},
   "outputs": [
    {
     "name": "stdout",
     "output_type": "stream",
     "text": [
      "30\n"
     ]
    }
   ],
   "source": [
    "a=10\n",
    "b=20\n",
    "c=a+b\n",
    "print(c)"
   ]
  },
  {
   "cell_type": "code",
   "execution_count": 16,
   "metadata": {},
   "outputs": [
    {
     "name": "stdout",
     "output_type": "stream",
     "text": [
      "Enter 1st number 8\n"
     ]
    }
   ],
   "source": [
    "a=input(\"Enter 1st number \")\n"
   ]
  },
  {
   "cell_type": "code",
   "execution_count": 17,
   "metadata": {},
   "outputs": [
    {
     "data": {
      "text/plain": [
       "str"
      ]
     },
     "execution_count": 17,
     "metadata": {},
     "output_type": "execute_result"
    }
   ],
   "source": [
    "type(a)"
   ]
  },
  {
   "cell_type": "code",
   "execution_count": 18,
   "metadata": {},
   "outputs": [
    {
     "name": "stdout",
     "output_type": "stream",
     "text": [
      "Enter 1st number 7\n",
      "Enter 2nd number 8\n",
      "15\n"
     ]
    }
   ],
   "source": [
    "a=int(input(\"Enter 1st number \"))\n",
    "b=int(input(\"Enter 2nd number \"))\n",
    "print(a+b)"
   ]
  },
  {
   "cell_type": "markdown",
   "metadata": {},
   "source": [
    "### operators \n",
    "\n",
    "1. Arithmetic (+,-,*,/,**,//,%)\n",
    "2. Assignment (=,+=,-=,*=,/=,**=,//=,%=)\n",
    "3. Comparision (==,!=,<,>,<=,>=) --> give boolean output(TRUE/FALSE)\n",
    "4. Logical (and,or,not )"
   ]
  },
  {
   "cell_type": "code",
   "execution_count": 19,
   "metadata": {},
   "outputs": [
    {
     "name": "stdout",
     "output_type": "stream",
     "text": [
      "True\n"
     ]
    }
   ],
   "source": [
    "# Logical \n",
    "x=5\n",
    "y=10\n",
    "\n",
    "print(x==5 and y==10)"
   ]
  },
  {
   "cell_type": "code",
   "execution_count": 20,
   "metadata": {},
   "outputs": [
    {
     "name": "stdout",
     "output_type": "stream",
     "text": [
      "8\n",
      "9\n"
     ]
    }
   ],
   "source": [
    "#swapping\n",
    "a=8\n",
    "b=9\n",
    "print(a)\n",
    "temp=a\n",
    "\n",
    "\n",
    "a=b\n",
    "b=temp\n",
    "print(a)"
   ]
  },
  {
   "cell_type": "code",
   "execution_count": 21,
   "metadata": {},
   "outputs": [
    {
     "data": {
      "text/plain": [
       "75"
      ]
     },
     "execution_count": 21,
     "metadata": {},
     "output_type": "execute_result"
    }
   ],
   "source": [
    "import random\n",
    "random.randint(1,100)"
   ]
  },
  {
   "cell_type": "code",
   "execution_count": null,
   "metadata": {},
   "outputs": [],
   "source": []
  },
  {
   "cell_type": "code",
   "execution_count": null,
   "metadata": {},
   "outputs": [],
   "source": []
  },
  {
   "cell_type": "code",
   "execution_count": 22,
   "metadata": {},
   "outputs": [
    {
     "name": "stdout",
     "output_type": "stream",
     "text": [
      "Enter any number 999\n",
      "failure\n"
     ]
    }
   ],
   "source": [
    "a=int(input(\"Enter any number \"))\n",
    "if a==10:\n",
    "    print(\"sucess\")\n",
    "else:\n",
    "    print(\"failure\")"
   ]
  },
  {
   "cell_type": "code",
   "execution_count": 23,
   "metadata": {},
   "outputs": [
    {
     "name": "stdout",
     "output_type": "stream",
     "text": [
      "Enter any number hh\n"
     ]
    },
    {
     "ename": "ValueError",
     "evalue": "invalid literal for int() with base 10: 'hh'",
     "output_type": "error",
     "traceback": [
      "\u001b[1;31m---------------------------------------------------------------------------\u001b[0m",
      "\u001b[1;31mValueError\u001b[0m                                Traceback (most recent call last)",
      "\u001b[1;32m<ipython-input-23-f85ef859bca5>\u001b[0m in \u001b[0;36m<module>\u001b[1;34m()\u001b[0m\n\u001b[0;32m      1\u001b[0m \u001b[1;32mwhile\u001b[0m \u001b[1;32mTrue\u001b[0m\u001b[1;33m:\u001b[0m\u001b[1;33m\u001b[0m\u001b[0m\n\u001b[1;32m----> 2\u001b[1;33m     \u001b[0ma\u001b[0m\u001b[1;33m=\u001b[0m\u001b[0mint\u001b[0m\u001b[1;33m(\u001b[0m\u001b[0minput\u001b[0m\u001b[1;33m(\u001b[0m\u001b[1;34m\"Enter any number \"\u001b[0m\u001b[1;33m)\u001b[0m\u001b[1;33m)\u001b[0m\u001b[1;33m\u001b[0m\u001b[0m\n\u001b[0m\u001b[0;32m      3\u001b[0m     \u001b[1;32mif\u001b[0m \u001b[0ma\u001b[0m\u001b[1;33m==\u001b[0m\u001b[1;36m10\u001b[0m\u001b[1;33m:\u001b[0m\u001b[1;33m\u001b[0m\u001b[0m\n\u001b[0;32m      4\u001b[0m         \u001b[0mprint\u001b[0m\u001b[1;33m(\u001b[0m\u001b[1;34m\"sucess\"\u001b[0m\u001b[1;33m)\u001b[0m\u001b[1;33m\u001b[0m\u001b[0m\n\u001b[0;32m      5\u001b[0m     \u001b[1;32melse\u001b[0m\u001b[1;33m:\u001b[0m\u001b[1;33m\u001b[0m\u001b[0m\n",
      "\u001b[1;31mValueError\u001b[0m: invalid literal for int() with base 10: 'hh'"
     ]
    }
   ],
   "source": [
    "while True:\n",
    "    a=int(input(\"Enter any number \"))\n",
    "    if a==10:\n",
    "        print(\"sucess\")\n",
    "    else:\n",
    "        print(\"failure\")"
   ]
  },
  {
   "cell_type": "code",
   "execution_count": 24,
   "metadata": {},
   "outputs": [
    {
     "name": "stdout",
     "output_type": "stream",
     "text": [
      "Enter any number 88\n",
      "failure\n",
      "Enter any number 99\n",
      "failure\n",
      "Enter any number 00\n",
      "failure\n",
      "Enter any number 99\n",
      "failure\n",
      "Enter any number 00\n",
      "failure\n"
     ]
    }
   ],
   "source": [
    "for i in range(5):\n",
    "    a=int(input(\"Enter any number \"))\n",
    "    if a==10:\n",
    "        print(\"sucess\")\n",
    "    else:\n",
    "        print(\"failure\")"
   ]
  },
  {
   "cell_type": "code",
   "execution_count": 25,
   "metadata": {},
   "outputs": [
    {
     "name": "stdout",
     "output_type": "stream",
     "text": [
      "enter your pwdk\n",
      "try again\n",
      "enter your pwdii\n",
      "try again\n",
      "enter your pwd99\n",
      "try again\n",
      "You tried more than 3 times.\n"
     ]
    }
   ],
   "source": [
    "for i in range(1,4):\n",
    "    a =input(\"enter your pwd\")\n",
    "    if (a==\"gokul\"):\n",
    "        print(\"Matched\")\n",
    "        break\n",
    "    else:\n",
    "        print(\"try again\")\n",
    "        continue\n",
    "        \n",
    "if (i==3):\n",
    "    print(\"You tried more than 3 times.\")"
   ]
  },
  {
   "cell_type": "code",
   "execution_count": 2,
   "metadata": {},
   "outputs": [
    {
     "name": "stdout",
     "output_type": "stream",
     "text": [
      "Enter your password : abcd\n",
      "Password matched \n",
      "Sucessfully open the door \n"
     ]
    }
   ],
   "source": [
    "i=0\n",
    "while (i<3):\n",
    "    a=input(\"Enter your password : \" )\n",
    "    if a==\"abcd\":\n",
    "        print(\"Password matched \")\n",
    "        break\n",
    "    else:\n",
    "        print(\"Wrong password , Pls try again \")\n",
    "        i=i+1     \n",
    "if i==3:\n",
    "    print(\"Sorry You Tried more than 3 times\")\n",
    "else:\n",
    "    print(\"Sucessfully open the door \")  "
   ]
  },
  {
   "cell_type": "code",
   "execution_count": 26,
   "metadata": {},
   "outputs": [
    {
     "name": "stdout",
     "output_type": "stream",
     "text": [
      "1\n",
      "2\n",
      "3\n",
      "4\n",
      "6\n",
      "7\n",
      "8\n",
      "9\n",
      "10\n"
     ]
    }
   ],
   "source": [
    "for i in range(10):\n",
    "    i=i+1\n",
    "    if i==5:\n",
    "        continue\n",
    "    else:\n",
    "        print(i)"
   ]
  },
  {
   "cell_type": "code",
   "execution_count": null,
   "metadata": {},
   "outputs": [],
   "source": []
  },
  {
   "cell_type": "code",
   "execution_count": 27,
   "metadata": {},
   "outputs": [
    {
     "name": "stdout",
     "output_type": "stream",
     "text": [
      "Murugan\n"
     ]
    }
   ],
   "source": [
    "a=\"Murugan\"\n",
    "print(a)\n"
   ]
  },
  {
   "cell_type": "code",
   "execution_count": 28,
   "metadata": {},
   "outputs": [
    {
     "data": {
      "text/plain": [
       "'Mur'"
      ]
     },
     "execution_count": 28,
     "metadata": {},
     "output_type": "execute_result"
    }
   ],
   "source": [
    "a[0:3]"
   ]
  },
  {
   "cell_type": "code",
   "execution_count": 29,
   "metadata": {},
   "outputs": [
    {
     "data": {
      "text/plain": [
       "'gan'"
      ]
     },
     "execution_count": 29,
     "metadata": {},
     "output_type": "execute_result"
    }
   ],
   "source": [
    "a[4:7]"
   ]
  },
  {
   "cell_type": "code",
   "execution_count": 30,
   "metadata": {},
   "outputs": [
    {
     "data": {
      "text/plain": [
       "'Mrgn'"
      ]
     },
     "execution_count": 30,
     "metadata": {},
     "output_type": "execute_result"
    }
   ],
   "source": [
    "a[0:7:2]"
   ]
  },
  {
   "cell_type": "code",
   "execution_count": 31,
   "metadata": {},
   "outputs": [
    {
     "data": {
      "text/plain": [
       "'naguruM'"
      ]
     },
     "execution_count": 31,
     "metadata": {},
     "output_type": "execute_result"
    }
   ],
   "source": [
    "a[::-1]"
   ]
  },
  {
   "cell_type": "code",
   "execution_count": 32,
   "metadata": {},
   "outputs": [
    {
     "name": "stdout",
     "output_type": "stream",
     "text": [
      "nagalakshmi\n",
      "False\n",
      "False\n",
      "nagalakshmi nagalakshmi \n"
     ]
    }
   ],
   "source": [
    "a= \"nagalakshmi \"\n",
    "print(a.strip())\n",
    "print(a.isalpha())\n",
    "print(a.isnumeric())\n",
    "print(a*2)"
   ]
  },
  {
   "cell_type": "code",
   "execution_count": 33,
   "metadata": {},
   "outputs": [
    {
     "name": "stdout",
     "output_type": "stream",
     "text": [
      "3534564\n",
      "True\n"
     ]
    }
   ],
   "source": [
    "b=\"3534564\"\n",
    "print(b)\n",
    "print(b.isnumeric())"
   ]
  },
  {
   "cell_type": "code",
   "execution_count": null,
   "metadata": {},
   "outputs": [],
   "source": []
  },
  {
   "cell_type": "code",
   "execution_count": 34,
   "metadata": {},
   "outputs": [
    {
     "name": "stdout",
     "output_type": "stream",
     "text": [
      "['murugan', 8, 9, 15, 'a', 10]\n"
     ]
    }
   ],
   "source": [
    "l=[\"murugan\",8,9,15,'a',10]\n",
    "print(l)"
   ]
  },
  {
   "cell_type": "code",
   "execution_count": 35,
   "metadata": {},
   "outputs": [
    {
     "data": {
      "text/plain": [
       "['murugan', 8, 9]"
      ]
     },
     "execution_count": 35,
     "metadata": {},
     "output_type": "execute_result"
    }
   ],
   "source": [
    "l[0:3]"
   ]
  },
  {
   "cell_type": "code",
   "execution_count": 36,
   "metadata": {},
   "outputs": [
    {
     "data": {
      "text/plain": [
       "6"
      ]
     },
     "execution_count": 36,
     "metadata": {},
     "output_type": "execute_result"
    }
   ],
   "source": [
    "len(l)"
   ]
  },
  {
   "cell_type": "code",
   "execution_count": 37,
   "metadata": {},
   "outputs": [
    {
     "name": "stdout",
     "output_type": "stream",
     "text": [
      "8\n",
      "1\n",
      "None\n",
      "[1, 2, 3, 4, 5, 8]\n",
      "None\n",
      "[8, 5, 4, 3, 2, 1]\n"
     ]
    }
   ],
   "source": [
    "cc=[1,2,3,4,5,8]\n",
    "print(max(cc))\n",
    "print(min(cc))\n",
    "print(cc.sort())\n",
    "print(cc)\n",
    "print(cc.sort(reverse=True))\n",
    "print(cc)"
   ]
  },
  {
   "cell_type": "code",
   "execution_count": 38,
   "metadata": {},
   "outputs": [],
   "source": [
    "l.append(\"vit\")"
   ]
  },
  {
   "cell_type": "code",
   "execution_count": 39,
   "metadata": {},
   "outputs": [
    {
     "name": "stdout",
     "output_type": "stream",
     "text": [
      "['murugan', 8, 9, 15, 'a', 10, 'vit']\n"
     ]
    }
   ],
   "source": [
    "print(l)"
   ]
  },
  {
   "cell_type": "code",
   "execution_count": 40,
   "metadata": {},
   "outputs": [],
   "source": [
    "l.insert(2,\"Vit\")"
   ]
  },
  {
   "cell_type": "code",
   "execution_count": 41,
   "metadata": {},
   "outputs": [
    {
     "data": {
      "text/plain": [
       "['murugan', 8, 'Vit', 9, 15, 'a', 10, 'vit']"
      ]
     },
     "execution_count": 41,
     "metadata": {},
     "output_type": "execute_result"
    }
   ],
   "source": [
    "l"
   ]
  },
  {
   "cell_type": "code",
   "execution_count": 42,
   "metadata": {},
   "outputs": [],
   "source": [
    "l.remove(\"murugan\")"
   ]
  },
  {
   "cell_type": "markdown",
   "metadata": {},
   "source": [
    "print(l)"
   ]
  },
  {
   "cell_type": "code",
   "execution_count": 43,
   "metadata": {},
   "outputs": [
    {
     "name": "stdout",
     "output_type": "stream",
     "text": [
      "[8, 'Vit', 9, 15, 'a', 10, 'vit']\n"
     ]
    }
   ],
   "source": [
    "print(l)"
   ]
  },
  {
   "cell_type": "code",
   "execution_count": 44,
   "metadata": {},
   "outputs": [],
   "source": [
    "l.append(\"Vit\")"
   ]
  },
  {
   "cell_type": "code",
   "execution_count": 45,
   "metadata": {},
   "outputs": [
    {
     "data": {
      "text/plain": [
       "[8, 'Vit', 9, 15, 'a', 10, 'vit', 'Vit']"
      ]
     },
     "execution_count": 45,
     "metadata": {},
     "output_type": "execute_result"
    }
   ],
   "source": [
    "l"
   ]
  },
  {
   "cell_type": "code",
   "execution_count": 46,
   "metadata": {},
   "outputs": [
    {
     "data": {
      "text/plain": [
       "2"
      ]
     },
     "execution_count": 46,
     "metadata": {},
     "output_type": "execute_result"
    }
   ],
   "source": [
    "l.count(\"Vit\")"
   ]
  },
  {
   "cell_type": "markdown",
   "metadata": {},
   "source": [
    "### Dictonary {}"
   ]
  },
  {
   "cell_type": "code",
   "execution_count": 47,
   "metadata": {},
   "outputs": [],
   "source": [
    "#Dictonary \n",
    "d={}\n",
    "D=dict()"
   ]
  },
  {
   "cell_type": "code",
   "execution_count": 48,
   "metadata": {},
   "outputs": [
    {
     "name": "stdout",
     "output_type": "stream",
     "text": [
      "{'a': 'apple', 'b': 'ball', 'age': 28, 2: 'hello'}\n",
      "apple\n",
      "hello\n"
     ]
    }
   ],
   "source": [
    "d={'a':'apple','b':'ball','age':28,2:\"hello\"}\n",
    "print(d)\n",
    "print(d['a'])\n",
    "print(d[2])"
   ]
  },
  {
   "cell_type": "code",
   "execution_count": 49,
   "metadata": {},
   "outputs": [
    {
     "name": "stdout",
     "output_type": "stream",
     "text": [
      "{'a': 'apple', 'b': 'ball', 'age': 28, 2: 'hello'}\n",
      "dict_keys(['a', 'b', 'age', 2])\n",
      "dict_values(['apple', 'ball', 28, 'hello'])\n",
      "dict_items([('a', 'apple'), ('b', 'ball'), ('age', 28), (2, 'hello')])\n"
     ]
    }
   ],
   "source": [
    "print(d)\n",
    "print(d.keys())\n",
    "print(d.values())\n",
    "print(d.items())"
   ]
  },
  {
   "cell_type": "code",
   "execution_count": 50,
   "metadata": {},
   "outputs": [
    {
     "name": "stdout",
     "output_type": "stream",
     "text": [
      "{'a': 'app', 'b': 'ball', 'age': 28, 2: 'hello'}\n"
     ]
    }
   ],
   "source": [
    "d1={'a':'apple','b':'ball','age':28,2:\"hello\",'a':'app'}\n",
    "str(d1)\n",
    "print(d1)\n"
   ]
  },
  {
   "cell_type": "code",
   "execution_count": null,
   "metadata": {},
   "outputs": [],
   "source": [
    "\n",
    "   "
   ]
  },
  {
   "cell_type": "code",
   "execution_count": 51,
   "metadata": {},
   "outputs": [
    {
     "name": "stdout",
     "output_type": "stream",
     "text": [
      "Original dictionary {'key1': 'AGeek', 'key2': 'For', 'key3': 'IsGeeks', 'key4': 'ZGeeks'}\n",
      "\n",
      "Items in sorted order\n",
      "AGeek\n",
      "For\n",
      "IsGeeks\n",
      "ZGeeks\n"
     ]
    }
   ],
   "source": [
    "# Python program to sort the items alphabetically from given dictionary \n",
    "  \n",
    "# initialising _dictionary  \n",
    "dict = {'key1' : 'AGeek', 'key2' : 'For', 'key3': 'IsGeeks',  'key4': 'ZGeeks'}  \n",
    "  \n",
    "# printing iniial_dictionary  \n",
    "print (\"Original dictionary\", str(dict))  \n",
    "  \n",
    "# getting items in sorted order  \n",
    "print (\"\\nItems in sorted order\")  \n",
    "for key in sorted(dict):  \n",
    "    print (dict[key]) \n",
    "    "
   ]
  },
  {
   "cell_type": "code",
   "execution_count": 52,
   "metadata": {},
   "outputs": [
    {
     "name": "stdout",
     "output_type": "stream",
     "text": [
      "C : 91\n",
      "C++ : 92\n",
      "Java : 95\n",
      "Python : 93\n"
     ]
    }
   ],
   "source": [
    "# Sort dictionary based on keys \n",
    "\n",
    "languages = {'Python': 93, 'Java': 95, 'C': 91, 'C++':92}\n",
    "for key in sorted(languages.keys()) :\n",
    "        print('%s : %s' %(key, languages[key]))\n",
    "        \n"
   ]
  },
  {
   "cell_type": "code",
   "execution_count": 53,
   "metadata": {},
   "outputs": [
    {
     "name": "stdout",
     "output_type": "stream",
     "text": [
      "Python : 93\n",
      "Java : 95\n",
      "C++ : 92\n",
      "C : 91\n"
     ]
    }
   ],
   "source": [
    "languages = {'Python': 93, 'Java': 95, 'C': 91, 'C++':92}\n",
    "for key in sorted(languages.keys(),  reverse=True) :\n",
    "        print('%s : %s' %(key, languages[key]))"
   ]
  },
  {
   "cell_type": "code",
   "execution_count": 54,
   "metadata": {},
   "outputs": [
    {
     "name": "stdout",
     "output_type": "stream",
     "text": [
      "C : 91\n",
      "C++ : 92\n",
      "Python : 93\n",
      "Java : 95\n"
     ]
    }
   ],
   "source": [
    "# Sort dictionary based on values\n",
    "\n",
    "\n",
    "languages = {'Python': 93, 'Java': 95, 'C': 91, 'C++':92}\n",
    "for key, value in sorted(languages.items(),  key=lambda x:x[1]) :\n",
    "        print('%s : %s' %(key, value))"
   ]
  },
  {
   "cell_type": "code",
   "execution_count": 55,
   "metadata": {},
   "outputs": [
    {
     "name": "stdout",
     "output_type": "stream",
     "text": [
      "{3: 'Three', 4: 'Four', 1: 'One', 2: 'Two'}\n",
      "[1, 2, 3, 4]\n",
      "1 One\n",
      "2 Two\n",
      "3 Three\n",
      "4 Four\n"
     ]
    }
   ],
   "source": [
    "\n",
    "dic = {3: 'Three',4:'Four',1:'One',2:'Two'} \n",
    "print(dic)\n",
    "sorted_d1=sorted(dic)\n",
    "print(sorted_d1)\n",
    "\n",
    "for k in sorted (dic.keys()):\n",
    "    print(k,dic[k])"
   ]
  },
  {
   "cell_type": "code",
   "execution_count": 56,
   "metadata": {},
   "outputs": [
    {
     "name": "stdout",
     "output_type": "stream",
     "text": [
      "{'a': 'apple', 'b': 'bat', 2: 'two', 3: 'three'}\n",
      "a apple\n",
      "b bat\n",
      "2 two\n",
      "3 three\n",
      "{'apple': 'a', 'bat': 'b', 'two': 2, 'three': 3}\n"
     ]
    }
   ],
   "source": [
    "#swaping dict\n",
    "d1={'a':'apple','b':'bat',2:'two',3:'three'}\n",
    "d2={}\n",
    "print(d1)\n",
    "for k,v in d1.items():\n",
    "    print(k,v)\n",
    "    d2.update({v:k})\n",
    "print(d2)\n"
   ]
  },
  {
   "cell_type": "code",
   "execution_count": 57,
   "metadata": {},
   "outputs": [
    {
     "ename": "AttributeError",
     "evalue": "'str' object has no attribute 'items'",
     "output_type": "error",
     "traceback": [
      "\u001b[1;31m---------------------------------------------------------------------------\u001b[0m",
      "\u001b[1;31mAttributeError\u001b[0m                            Traceback (most recent call last)",
      "\u001b[1;32m<ipython-input-57-bea577731b4a>\u001b[0m in \u001b[0;36m<module>\u001b[1;34m()\u001b[0m\n\u001b[1;32m----> 1\u001b[1;33m \u001b[0mres\u001b[0m \u001b[1;33m=\u001b[0m \u001b[0mdict\u001b[0m\u001b[1;33m(\u001b[0m\u001b[1;33m(\u001b[0m\u001b[0mv\u001b[0m\u001b[1;33m,\u001b[0m\u001b[0mk\u001b[0m\u001b[1;33m)\u001b[0m \u001b[1;32mfor\u001b[0m \u001b[0mk\u001b[0m\u001b[1;33m,\u001b[0m\u001b[0mv\u001b[0m \u001b[1;32min\u001b[0m \u001b[0ma\u001b[0m\u001b[1;33m.\u001b[0m\u001b[0mitems\u001b[0m\u001b[1;33m(\u001b[0m\u001b[1;33m)\u001b[0m\u001b[1;33m)\u001b[0m\u001b[1;33m\u001b[0m\u001b[0m\n\u001b[0m",
      "\u001b[1;31mAttributeError\u001b[0m: 'str' object has no attribute 'items'"
     ]
    }
   ],
   "source": [
    "res = dict((v,k) for k,v in a.items())"
   ]
  },
  {
   "cell_type": "code",
   "execution_count": null,
   "metadata": {},
   "outputs": [],
   "source": []
  },
  {
   "cell_type": "code",
   "execution_count": 58,
   "metadata": {},
   "outputs": [
    {
     "name": "stdout",
     "output_type": "stream",
     "text": [
      "{'a': 'apple', 'b': 'ball', 'age': 28, 2: 'hello', 'name': 'murugan'}\n",
      "{'a': 'apple', 'b': 'ball', 'age': 28, 2: 'hello', 'name': 'bala'}\n"
     ]
    }
   ],
   "source": [
    "d['name']=\"murugan\"\n",
    "print(d)\n",
    "d['name']='bala'\n",
    "print(d)"
   ]
  },
  {
   "cell_type": "code",
   "execution_count": 59,
   "metadata": {},
   "outputs": [
    {
     "name": "stdout",
     "output_type": "stream",
     "text": [
      "{'a': 'apple', 'b': 'ball', 'age': 28, 2: 'hello', 'name': 'bala'}\n",
      "dict_keys(['a', 'b', 'age', 2, 'name'])\n",
      "dict_values(['apple', 'ball', 28, 'hello', 'bala'])\n",
      "dict_items([('a', 'apple'), ('b', 'ball'), ('age', 28), (2, 'hello'), ('name', 'bala')])\n"
     ]
    }
   ],
   "source": [
    "print(d)\n",
    "print(d.keys())\n",
    "print(d.values())\n",
    "print(d.items())"
   ]
  },
  {
   "cell_type": "code",
   "execution_count": 60,
   "metadata": {},
   "outputs": [
    {
     "name": "stdout",
     "output_type": "stream",
     "text": [
      "a apple\n",
      "b ball\n",
      "age 28\n",
      "2 hello\n",
      "name bala\n"
     ]
    }
   ],
   "source": [
    "for k,v in d.items():\n",
    "    print(k,v)"
   ]
  },
  {
   "cell_type": "code",
   "execution_count": 61,
   "metadata": {},
   "outputs": [
    {
     "data": {
      "text/plain": [
       "{'a': 'apple', 'b': 'ball', 'age': 28, 2: 'hello', 'name': 'bala'}"
      ]
     },
     "execution_count": 61,
     "metadata": {},
     "output_type": "execute_result"
    }
   ],
   "source": [
    "d[2]=\"hello\"\n",
    "d"
   ]
  },
  {
   "cell_type": "code",
   "execution_count": 62,
   "metadata": {},
   "outputs": [
    {
     "name": "stdout",
     "output_type": "stream",
     "text": [
      "{'a': 'apple', 'b': 'ball', 'age': 28, 'name': 'bala'}\n"
     ]
    }
   ],
   "source": [
    "d.pop(2)   # delete \n",
    "print(d)"
   ]
  },
  {
   "cell_type": "code",
   "execution_count": 63,
   "metadata": {},
   "outputs": [
    {
     "ename": "KeyError",
     "evalue": "2",
     "output_type": "error",
     "traceback": [
      "\u001b[1;31m---------------------------------------------------------------------------\u001b[0m",
      "\u001b[1;31mKeyError\u001b[0m                                  Traceback (most recent call last)",
      "\u001b[1;32m<ipython-input-63-31e076e1b505>\u001b[0m in \u001b[0;36m<module>\u001b[1;34m()\u001b[0m\n\u001b[1;32m----> 1\u001b[1;33m \u001b[1;32mdel\u001b[0m \u001b[0md\u001b[0m\u001b[1;33m[\u001b[0m\u001b[1;36m2\u001b[0m\u001b[1;33m]\u001b[0m\u001b[1;33m\u001b[0m\u001b[0m\n\u001b[0m",
      "\u001b[1;31mKeyError\u001b[0m: 2"
     ]
    }
   ],
   "source": [
    "del d[2]"
   ]
  },
  {
   "cell_type": "code",
   "execution_count": 64,
   "metadata": {},
   "outputs": [
    {
     "data": {
      "text/plain": [
       "('name', 'bala')"
      ]
     },
     "execution_count": 64,
     "metadata": {},
     "output_type": "execute_result"
    }
   ],
   "source": [
    "d.popitem()   # removes the last items . like pop in List "
   ]
  },
  {
   "cell_type": "code",
   "execution_count": 65,
   "metadata": {},
   "outputs": [
    {
     "name": "stdout",
     "output_type": "stream",
     "text": [
      "{'a': 'apple', 'b': 'ball', 'age': 28}\n"
     ]
    }
   ],
   "source": [
    "print(d)"
   ]
  },
  {
   "cell_type": "code",
   "execution_count": 66,
   "metadata": {},
   "outputs": [
    {
     "data": {
      "text/plain": [
       "{'a': 'apple', 'b': 'ball', 'age': 28, 'c': 'cricket', 'm': 'movie'}"
      ]
     },
     "execution_count": 66,
     "metadata": {},
     "output_type": "execute_result"
    }
   ],
   "source": [
    "d.update({'c':'cricket','m':'movie'})\n",
    "d"
   ]
  },
  {
   "cell_type": "code",
   "execution_count": 74,
   "metadata": {},
   "outputs": [
    {
     "name": "stdout",
     "output_type": "stream",
     "text": [
      "enter your name sds\n",
      "enter your DOB dsd\n",
      "{'sds': 'dsd'}\n"
     ]
    }
   ],
   "source": [
    "d={}\n",
    "k=input(\"enter your name \")\n",
    "v=input(\"enter your DOB \")\n",
    "d[k]=v\n",
    "print(d)"
   ]
  },
  {
   "cell_type": "code",
   "execution_count": 75,
   "metadata": {},
   "outputs": [
    {
     "name": "stdout",
     "output_type": "stream",
     "text": [
      "Current Dict is:  {'key1': 'geeks', 'key2': 'for'}\n",
      "enter your name df\n",
      "enter your DOB ds\n",
      "Updated Dict is:  {'key1': 'geeks', 'key2': 'for', 'df': 'ds'}\n"
     ]
    }
   ],
   "source": [
    "\n",
    "dict = {'key1':'geeks', 'key2':'for'} \n",
    "print(\"Current Dict is: \", dict) \n",
    "  \n",
    "# adding key3 \n",
    "k=input(\"enter your name \")\n",
    "v=input(\"enter your DOB \")\n",
    "dict.update({k:v}) \n",
    "print(\"Updated Dict is: \", dict)"
   ]
  },
  {
   "cell_type": "code",
   "execution_count": 76,
   "metadata": {},
   "outputs": [
    {
     "name": "stdout",
     "output_type": "stream",
     "text": [
      "enter your name sf\n",
      "enter your DOB sdf\n",
      "Updated Dict is:  {'key1': 'geeks', 'key2': 'for', 'df': 'ds', 'sf': 'sdf'}\n"
     ]
    }
   ],
   "source": [
    "k=input(\"enter your name \")\n",
    "v=input(\"enter your DOB \")\n",
    "dict.update({k:v}) \n",
    "print(\"Updated Dict is: \", dict)"
   ]
  },
  {
   "cell_type": "code",
   "execution_count": 77,
   "metadata": {},
   "outputs": [
    {
     "ename": "TypeError",
     "evalue": "'list' object is not callable",
     "output_type": "error",
     "traceback": [
      "\u001b[1;31m---------------------------------------------------------------------------\u001b[0m",
      "\u001b[1;31mTypeError\u001b[0m                                 Traceback (most recent call last)",
      "\u001b[1;32m<ipython-input-77-0f52a4601608>\u001b[0m in \u001b[0;36m<module>\u001b[1;34m()\u001b[0m\n\u001b[0;32m      2\u001b[0m \u001b[0mBoys\u001b[0m \u001b[1;33m=\u001b[0m \u001b[1;33m{\u001b[0m\u001b[1;34m'Tim'\u001b[0m\u001b[1;33m:\u001b[0m \u001b[1;36m18\u001b[0m\u001b[1;33m,\u001b[0m\u001b[1;34m'Charlie'\u001b[0m\u001b[1;33m:\u001b[0m\u001b[1;36m12\u001b[0m\u001b[1;33m,\u001b[0m\u001b[1;34m'Robert'\u001b[0m\u001b[1;33m:\u001b[0m\u001b[1;36m25\u001b[0m\u001b[1;33m}\u001b[0m\u001b[1;33m\u001b[0m\u001b[0m\n\u001b[0;32m      3\u001b[0m \u001b[0mGirls\u001b[0m \u001b[1;33m=\u001b[0m \u001b[1;33m{\u001b[0m\u001b[1;34m'Tiffany'\u001b[0m\u001b[1;33m:\u001b[0m\u001b[1;36m22\u001b[0m\u001b[1;33m}\u001b[0m\u001b[1;33m\u001b[0m\u001b[0m\n\u001b[1;32m----> 4\u001b[1;33m \u001b[1;32mfor\u001b[0m \u001b[0mkey\u001b[0m \u001b[1;32min\u001b[0m \u001b[0mlist\u001b[0m\u001b[1;33m(\u001b[0m\u001b[0mDict\u001b[0m\u001b[1;33m.\u001b[0m\u001b[0mkeys\u001b[0m\u001b[1;33m(\u001b[0m\u001b[1;33m)\u001b[0m\u001b[1;33m)\u001b[0m\u001b[1;33m:\u001b[0m\u001b[1;33m\u001b[0m\u001b[0m\n\u001b[0m\u001b[0;32m      5\u001b[0m     \u001b[1;32mif\u001b[0m \u001b[0mkey\u001b[0m \u001b[1;32min\u001b[0m \u001b[0mlist\u001b[0m\u001b[1;33m(\u001b[0m\u001b[0mBoys\u001b[0m\u001b[1;33m.\u001b[0m\u001b[0mkeys\u001b[0m\u001b[1;33m(\u001b[0m\u001b[1;33m)\u001b[0m\u001b[1;33m)\u001b[0m\u001b[1;33m:\u001b[0m\u001b[1;33m\u001b[0m\u001b[0m\n\u001b[0;32m      6\u001b[0m         \u001b[0mprint\u001b[0m\u001b[1;33m(\u001b[0m\u001b[1;32mTrue\u001b[0m\u001b[1;33m)\u001b[0m\u001b[1;33m\u001b[0m\u001b[0m\n",
      "\u001b[1;31mTypeError\u001b[0m: 'list' object is not callable"
     ]
    }
   ],
   "source": [
    "Dict = {'Tim': 18,'Charlie':12,'Tiffany':22,'Robert':25}\n",
    "Boys = {'Tim': 18,'Charlie':12,'Robert':25}\n",
    "Girls = {'Tiffany':22}\n",
    "for key in list(Dict.keys()):\n",
    "    if key in list(Boys.keys()):\n",
    "        print(True)\n",
    "    else:       \n",
    "        print(False)"
   ]
  },
  {
   "cell_type": "code",
   "execution_count": 78,
   "metadata": {},
   "outputs": [
    {
     "name": "stdout",
     "output_type": "stream",
     "text": [
      "True\n",
      "True\n",
      "False\n",
      "True\n"
     ]
    }
   ],
   "source": [
    "Dict = {'Tim': 18,'Charlie':12,'Tiffany':22,'Robert':25}\n",
    "Boys = {'Tim': 18,'Charlie':12,'Robert':25}\n",
    "Girls = {'Tiffany':22}\n",
    "for key in Dict.keys():\n",
    "    if key in Boys.keys():\n",
    "        print(True)\n",
    "    else:       \n",
    "        print(False)"
   ]
  },
  {
   "cell_type": "code",
   "execution_count": 79,
   "metadata": {},
   "outputs": [
    {
     "name": "stdout",
     "output_type": "stream",
     "text": [
      "True\n",
      "False\n",
      "False\n",
      "False\n",
      "True\n",
      "False\n",
      "False\n",
      "False\n",
      "False\n",
      "False\n",
      "False\n",
      "True\n"
     ]
    }
   ],
   "source": [
    "Dict = {'Tim': 18,'Charlie':12,'Tiffany':22,'Robert':25}\n",
    "Boys = {'Tim': 18,'Charlie':12,'Robert':25}\n",
    "for key in Dict.keys():\n",
    "    for keys in Boys.keys():\n",
    "        if key in keys:\n",
    "            print(True)\n",
    "        else:\n",
    "            print(False)"
   ]
  },
  {
   "cell_type": "code",
   "execution_count": 81,
   "metadata": {},
   "outputs": [
    {
     "name": "stdout",
     "output_type": "stream",
     "text": [
      "press update for 1 and  Search for 0 1\n",
      "Enter your name : murugan\n",
      "enter your age 13\n",
      "Updated Dict is:  {'murugan': '13'}\n",
      "press update for 1 and  Search for 0 5\n",
      "Your press wrong number  \n"
     ]
    }
   ],
   "source": [
    "dict={}\n",
    "while 1:\n",
    "    a=int(input(\"press update for 1 and  Search for 0 \"))\n",
    "    if a==1:\n",
    "        k=input(\"Enter your name : \")\n",
    "        v=input(\"enter your age \")\n",
    "        dict.update({k:v}) \n",
    "        print(\"Updated Dict is: \", dict)\n",
    "        continue\n",
    "    elif a==0:\n",
    "        ke=input(\"Enter your key name : \")\n",
    "        print(\"your Key value  is: \", dict[ke])\n",
    "        continue\n",
    "    else:\n",
    "        print(\"Your press wrong number  \")\n",
    "        break\n"
   ]
  },
  {
   "cell_type": "code",
   "execution_count": 82,
   "metadata": {},
   "outputs": [
    {
     "name": "stdout",
     "output_type": "stream",
     "text": [
      "\n",
      "Before Sorting: \n",
      "('L1', [87, 34, 56, 12])\n",
      "('L2', [23, 0, 30, 10])\n",
      "('L3', [1, 6, 2, 9])\n",
      "('L4', [40, 34, 21, 67])\n",
      "\n",
      "After Sorting: \n",
      "{'L1': [12, 34, 56, 87]}\n",
      "{'L2': [0, 10, 23, 30]}\n",
      "{'L3': [1, 2, 6, 9]}\n",
      "{'L4': [21, 34, 40, 67]}\n"
     ]
    }
   ],
   "source": [
    "# Python program to sort the list  \n",
    "# alphabetically in a dictionary \n",
    "dict ={ \n",
    "    \"L1\":[87, 34, 56, 12], \n",
    "    \"L2\":[23, 00, 30, 10], \n",
    "    \"L3\":[1, 6, 2, 9], \n",
    "    \"L4\":[40, 34, 21, 67] \n",
    "} \n",
    "  \n",
    "print(\"\\nBefore Sorting: \") \n",
    "for x in dict.items(): \n",
    "    print(x) \n",
    "  \n",
    "print(\"\\nAfter Sorting: \") \n",
    "  \n",
    "for i, j in dict.items(): \n",
    "    sorted_dict ={i:sorted(j)} \n",
    "    print(sorted_dict) "
   ]
  },
  {
   "cell_type": "markdown",
   "metadata": {},
   "source": [
    "## python comprehension tutorial\n",
    "\n",
    "#### syntax :  \n",
    "    [expr for element in iterable if condition]"
   ]
  },
  {
   "cell_type": "code",
   "execution_count": 83,
   "metadata": {},
   "outputs": [
    {
     "name": "stdout",
     "output_type": "stream",
     "text": [
      "[0, 2, 4, 6, 8]\n"
     ]
    }
   ],
   "source": [
    "#USING FOR LOOP\n",
    "evens = []\n",
    "for i in range(10):\n",
    "   if i % 2 == 0:\n",
    "      evens. append(i)\n",
    "print(evens)"
   ]
  },
  {
   "cell_type": "code",
   "execution_count": 84,
   "metadata": {},
   "outputs": [
    {
     "data": {
      "text/plain": [
       "[0, 2, 4, 6, 8]"
      ]
     },
     "execution_count": 84,
     "metadata": {},
     "output_type": "execute_result"
    }
   ],
   "source": [
    "[i for i in range(10) if i % 2 ==0]"
   ]
  },
  {
   "cell_type": "code",
   "execution_count": 85,
   "metadata": {},
   "outputs": [
    {
     "name": "stdout",
     "output_type": "stream",
     "text": [
      "['My', 'name', 'is', '7', 'Murugan', '8', 'and', 'good']\n"
     ]
    }
   ],
   "source": [
    "a=\"My name is 7 Murugan 8 and good \"\n",
    "b=a.split()\n",
    "print(b)"
   ]
  },
  {
   "cell_type": "code",
   "execution_count": 86,
   "metadata": {},
   "outputs": [
    {
     "name": "stdout",
     "output_type": "stream",
     "text": [
      "[7, 8]\n"
     ]
    }
   ],
   "source": [
    "c=[]\n",
    "for i in b :\n",
    "    if i.isdigit():\n",
    "        c.append(int(i))\n",
    "print(c)"
   ]
  },
  {
   "cell_type": "code",
   "execution_count": 87,
   "metadata": {},
   "outputs": [
    {
     "data": {
      "text/plain": [
       "[7, 8]"
      ]
     },
     "execution_count": 87,
     "metadata": {},
     "output_type": "execute_result"
    }
   ],
   "source": [
    "[int(i) for i in b if i.isdigit()]"
   ]
  },
  {
   "cell_type": "code",
   "execution_count": 88,
   "metadata": {},
   "outputs": [
    {
     "name": "stdout",
     "output_type": "stream",
     "text": [
      "['A', 'B', 'G', 'F', 'D', 'a', 'b', 'c', 'j', 'w']\n",
      "ABGFDabcjw\n"
     ]
    }
   ],
   "source": [
    "#a=ini_string = \"123()#$ABGFDabcjw\"\n",
    "a= \"123()#$ABGFDabcjw\"\n",
    "#isalpha()\n",
    "c=[]\n",
    "for i in a:\n",
    "    if i.isalpha():\n",
    "            c.append(str(i))\n",
    "print(c)\n",
    "a=\"\".join(c)\n",
    "print(str(a))"
   ]
  },
  {
   "cell_type": "code",
   "execution_count": 90,
   "metadata": {},
   "outputs": [
    {
     "ename": "TypeError",
     "evalue": "'list' object is not callable",
     "output_type": "error",
     "traceback": [
      "\u001b[1;31m---------------------------------------------------------------------------\u001b[0m",
      "\u001b[1;31mTypeError\u001b[0m                                 Traceback (most recent call last)",
      "\u001b[1;32m<ipython-input-90-267a820b318a>\u001b[0m in \u001b[0;36m<module>\u001b[1;34m()\u001b[0m\n\u001b[0;32m      3\u001b[0m \u001b[1;33m\u001b[0m\u001b[0m\n\u001b[0;32m      4\u001b[0m \u001b[1;31m# Print the unique `duplicates` list\u001b[0m\u001b[1;33m\u001b[0m\u001b[1;33m\u001b[0m\u001b[0m\n\u001b[1;32m----> 5\u001b[1;33m \u001b[0mprint\u001b[0m\u001b[1;33m(\u001b[0m\u001b[0mlist\u001b[0m\u001b[1;33m(\u001b[0m\u001b[0mset\u001b[0m\u001b[1;33m(\u001b[0m\u001b[0mduplicates\u001b[0m\u001b[1;33m)\u001b[0m\u001b[1;33m)\u001b[0m\u001b[1;33m)\u001b[0m\u001b[1;33m\u001b[0m\u001b[0m\n\u001b[0m",
      "\u001b[1;31mTypeError\u001b[0m: 'list' object is not callable"
     ]
    }
   ],
   "source": [
    "# Your list with duplicate values using SET function \n",
    "duplicates = [1, 2, 3, 1, 2, 5, 6, 7, 8]\n",
    "\n",
    "# Print the unique `duplicates` list\n",
    "print(list(set(duplicates)))"
   ]
  },
  {
   "cell_type": "code",
   "execution_count": 21,
   "metadata": {},
   "outputs": [
    {
     "data": {
      "text/plain": [
       "'123()#$ABGFDabcjw'"
      ]
     },
     "execution_count": 21,
     "metadata": {},
     "output_type": "execute_result"
    }
   ],
   "source": [
    "a=ini_string = \"123()#$ABGFDabcjw\"\n",
    "\n",
    "\" \".join(a.split())"
   ]
  },
  {
   "cell_type": "code",
   "execution_count": 64,
   "metadata": {},
   "outputs": [
    {
     "name": "stdout",
     "output_type": "stream",
     "text": [
      "h hw r y \n"
     ]
    }
   ],
   "source": [
    "#print not vowls in the sentences \n",
    "sen='hai how are you '\n",
    "v='aeiou'\n",
    "clear_sen=[]\n",
    "for i in sen:\n",
    "    if i not in v:\n",
    "        clear_sen.append(i)\n",
    "print(\"\".join(clear_sen))"
   ]
  },
  {
   "cell_type": "code",
   "execution_count": 66,
   "metadata": {},
   "outputs": [
    {
     "data": {
      "text/plain": [
       "'h hw r y '"
      ]
     },
     "execution_count": 66,
     "metadata": {},
     "output_type": "execute_result"
    }
   ],
   "source": [
    "sen='hai how are you '\n",
    "v='aeiou'\n",
    "\"\".join([i for i in sen if i not in v])\n"
   ]
  },
  {
   "cell_type": "code",
   "execution_count": 1,
   "metadata": {},
   "outputs": [
    {
     "data": {
      "text/plain": [
       "'h hw r y '"
      ]
     },
     "execution_count": 1,
     "metadata": {},
     "output_type": "execute_result"
    }
   ],
   "source": [
    "sen='hai how are you '\n",
    "v='aeiou'\n",
    "\"\".join((i for i in sen if i not in v))"
   ]
  },
  {
   "cell_type": "code",
   "execution_count": 68,
   "metadata": {},
   "outputs": [
    {
     "name": "stdout",
     "output_type": "stream",
     "text": [
      "{'India': 'New Delhi', 'Pakistan': 'Islamabad', 'Nepal': 'Kathmandu', 'Bhutan': 'Thimphu', 'China': 'Beijing', 'Bangladesh': 'Dhaka'}\n"
     ]
    }
   ],
   "source": [
    "country = ['India', 'Pakistan', 'Nepal', 'Bhutan', 'China', 'Bangladesh']\n",
    "capital = ['New Delhi', 'Islamabad','Kathmandu', 'Thimphu', 'Beijing', 'Dhaka']\n",
    "\n",
    "dic = {}\n",
    "for i in range(len(country)):\n",
    "    dic[country[i]] = capital[i]\n",
    "print(dic)"
   ]
  },
  {
   "cell_type": "code",
   "execution_count": 69,
   "metadata": {},
   "outputs": [
    {
     "data": {
      "text/plain": [
       "{'India': 'New Delhi',\n",
       " 'Pakistan': 'Islamabad',\n",
       " 'Nepal': 'Kathmandu',\n",
       " 'Bhutan': 'Thimphu',\n",
       " 'China': 'Beijing',\n",
       " 'Bangladesh': 'Dhaka'}"
      ]
     },
     "execution_count": 69,
     "metadata": {},
     "output_type": "execute_result"
    }
   ],
   "source": [
    "{ country[i] : capital[i] for i in range(len(country)) }"
   ]
  },
  {
   "cell_type": "markdown",
   "metadata": {},
   "source": [
    "### File handling \n",
    "\n",
    "1. open()\n",
    "2. close ()\n",
    "\n",
    "“ r “, for reading.\n",
    "“ w “, for writing.\n",
    "“ a “, for appending.\n",
    "“ r+ “, for both reading and writing."
   ]
  },
  {
   "cell_type": "code",
   "execution_count": 80,
   "metadata": {},
   "outputs": [
    {
     "name": "stdout",
     "output_type": "stream",
     "text": [
      "hi hello i am from Text ...!!\n"
     ]
    }
   ],
   "source": [
    "file =open('text.txt','r')\n",
    "content=file.read() # u can give arguments as numbers \n",
    "print(content)"
   ]
  },
  {
   "cell_type": "code",
   "execution_count": 78,
   "metadata": {},
   "outputs": [
    {
     "name": "stdout",
     "output_type": "stream",
     "text": [
      "hi hello i am from Text ...!!\n"
     ]
    }
   ],
   "source": [
    "with open('text.txt','r') as co:\n",
    "    f=co.read()\n",
    "    print(f)"
   ]
  },
  {
   "cell_type": "code",
   "execution_count": 31,
   "metadata": {},
   "outputs": [],
   "source": [
    "for each in content  :\n",
    "    pass\n",
    "    #print(each)"
   ]
  },
  {
   "cell_type": "code",
   "execution_count": 63,
   "metadata": {},
   "outputs": [],
   "source": [
    "# Python code to create a file \n",
    "file1= open('murugan.txt','w') \n",
    "file1.write(\"This is the write command \") \n",
    "file1.write(\"It allows us to write in\") \n",
    "file1.close()"
   ]
  },
  {
   "cell_type": "code",
   "execution_count": 64,
   "metadata": {},
   "outputs": [],
   "source": [
    "# Python code to illustrate append() mode \n",
    "file2 = open('murugan.txt','a') \n",
    "file2.write(\" This will add this line\") \n",
    "file2.close() "
   ]
  },
  {
   "cell_type": "code",
   "execution_count": 103,
   "metadata": {},
   "outputs": [
    {
     "name": "stdout",
     "output_type": "stream",
     "text": [
      "This is the write command It allows us to write in This will add this line\n"
     ]
    }
   ],
   "source": [
    "cote=open('murugan.txt','r')\n",
    "co=cote.read()\n",
    "print(co)"
   ]
  },
  {
   "cell_type": "code",
   "execution_count": 105,
   "metadata": {},
   "outputs": [],
   "source": [
    "\n",
    "f = open('murugan.txt','r')\n",
    "filedata = f.read()\n",
    "f.close()\n",
    "\n",
    "newdata = filedata.replace(\"this\",\"murugan\")\n",
    "\n",
    "f = open('murugan.txt','w')\n",
    "f.write(newdata)\n",
    "f.close()"
   ]
  },
  {
   "cell_type": "code",
   "execution_count": null,
   "metadata": {},
   "outputs": [],
   "source": [
    "f1 = open('file1.txt', 'r')\n",
    "f2 = open('file2.txt', 'w')\n",
    "for line in f1:\n",
    "    f2.write(line.replace('old_text', 'new_text'))\n",
    "f1.close()\n",
    "f2.close()"
   ]
  },
  {
   "cell_type": "code",
   "execution_count": null,
   "metadata": {},
   "outputs": [],
   "source": [
    "# Python code to illustrate with() \n",
    "with open(\"file.txt\") as file:   \n",
    "    data = file.read()  \n",
    "# do something with data "
   ]
  },
  {
   "cell_type": "code",
   "execution_count": null,
   "metadata": {},
   "outputs": [],
   "source": [
    "# Python code to illustrate with() alongwith write() \n",
    "with open(\"file.txt\", \"w\") as f:  \n",
    "    f.write(\"Hello World!!!\") "
   ]
  },
  {
   "cell_type": "code",
   "execution_count": null,
   "metadata": {},
   "outputs": [],
   "source": [
    "import os;  \n",
    "  \n",
    "#rename file2.txt to file3.txt  \n",
    "os.rename(\"file2.txt\",\"file3.txt\")  "
   ]
  },
  {
   "cell_type": "code",
   "execution_count": null,
   "metadata": {},
   "outputs": [],
   "source": [
    "import os;  \n",
    "  \n",
    "#deleting the file named file3.txt   \n",
    "os.remove(\"file3.txt\")  "
   ]
  },
  {
   "cell_type": "code",
   "execution_count": null,
   "metadata": {},
   "outputs": [],
   "source": [
    "import os;  \n",
    "  \n",
    "#creating a new directory with the name new  \n",
    "os.mkdir(\"new\") "
   ]
  },
  {
   "cell_type": "code",
   "execution_count": null,
   "metadata": {},
   "outputs": [],
   "source": [
    "import os;  \n",
    "  \n",
    "#removing the new directory   \n",
    "os.rmdir(\"new\") "
   ]
  },
  {
   "cell_type": "markdown",
   "metadata": {},
   "source": [
    "## Fucntions"
   ]
  },
  {
   "cell_type": "code",
   "execution_count": 25,
   "metadata": {},
   "outputs": [
    {
     "name": "stdout",
     "output_type": "stream",
     "text": [
      "Hi\n",
      "How r u \n",
      "30\n",
      "Hello\n",
      "VIT\n"
     ]
    },
    {
     "data": {
      "text/plain": [
       "<function __main__.add()>"
      ]
     },
     "execution_count": 25,
     "metadata": {},
     "output_type": "execute_result"
    }
   ],
   "source": [
    "def add():\n",
    "    a=10\n",
    "    b=20\n",
    "    print(a+b)\n",
    "print(\"Hi\")\n",
    "print(\"How r u \")\n",
    "add()\n",
    "print(\"Hello\")\n",
    "print(\"VIT\")\n",
    "add\n"
   ]
  },
  {
   "cell_type": "code",
   "execution_count": 27,
   "metadata": {},
   "outputs": [
    {
     "name": "stdout",
     "output_type": "stream",
     "text": [
      "Hello\n",
      "30\n"
     ]
    }
   ],
   "source": [
    "def add(a,b):\n",
    "    print(a+b)\n",
    "print(\"Hello\")\n",
    "add(10,20)"
   ]
  },
  {
   "cell_type": "code",
   "execution_count": 8,
   "metadata": {},
   "outputs": [
    {
     "name": "stdout",
     "output_type": "stream",
     "text": [
      "Hello World\n",
      "hello\n",
      "Hello World none\n"
     ]
    }
   ],
   "source": [
    "def hello():\n",
    "  print(\"Hello World\") \n",
    "  return(\"hello\")\n",
    "\n",
    "def hello_noreturn():\n",
    "  print(\"Hello World none\")\n",
    "  \n",
    "# Multiply the output of `hello()` with 2 \n",
    "a=hello() \n",
    "print(a)\n",
    "# (Try to) multiply the output of `hello_noreturn()` with 2 \n",
    "hello_noreturn() "
   ]
  },
  {
   "cell_type": "code",
   "execution_count": 10,
   "metadata": {},
   "outputs": [],
   "source": [
    "def run():\n",
    "  for x in range(10):\n",
    "     if x == 2:\n",
    "       return\n",
    "  print(\"Run!\")\n",
    "  \n",
    "run()"
   ]
  },
  {
   "cell_type": "code",
   "execution_count": 21,
   "metadata": {},
   "outputs": [
    {
     "name": "stdout",
     "output_type": "stream",
     "text": [
      "(1, 4, 5)\n"
     ]
    },
    {
     "data": {
      "text/plain": [
       "10"
      ]
     },
     "execution_count": 21,
     "metadata": {},
     "output_type": "execute_result"
    }
   ],
   "source": [
    "# Define `plus()` function to accept a variable number of arguments\n",
    "def plus(*args):\n",
    "    print(args)\n",
    "    return sum(args)\n",
    "\n",
    "# Calculate the sum\n",
    "plus(1,4,5)"
   ]
  },
  {
   "cell_type": "markdown",
   "metadata": {},
   "source": [
    "•\tFilter\n",
    "•\tMap\n",
    "•\tReduce\n",
    "•\tDecorators\n",
    "•\tFrozen set\n",
    "•\tCollections\n"
   ]
  },
  {
   "cell_type": "markdown",
   "metadata": {},
   "source": [
    "## Lambda"
   ]
  },
  {
   "cell_type": "code",
   "execution_count": 91,
   "metadata": {},
   "outputs": [
    {
     "name": "stdout",
     "output_type": "stream",
     "text": [
      "10\n"
     ]
    },
    {
     "data": {
      "text/plain": [
       "10"
      ]
     },
     "execution_count": 91,
     "metadata": {},
     "output_type": "execute_result"
    }
   ],
   "source": [
    "# Lambda function \n",
    "#     SYNTAX :    lambda arguments: expression\n",
    "#  This function can have any number of arguments but only one expression, which is evaluated and returned\n",
    "\n",
    "def f1(a,b):\n",
    "    print(a+b)\n",
    "\n",
    "f1(5,5)\n",
    "\n",
    "\n",
    "f=lambda x,y : x+y\n",
    "f(5,5)"
   ]
  },
  {
   "cell_type": "code",
   "execution_count": 93,
   "metadata": {},
   "outputs": [
    {
     "name": "stdout",
     "output_type": "stream",
     "text": [
      "343\n",
      "343\n"
     ]
    }
   ],
   "source": [
    "def cube(y): \n",
    "    return y*y*y; \n",
    " \n",
    "print(cube(7))\n",
    "\n",
    "\n",
    "g = lambda x: x*x*x \n",
    "print(g(7)) \n",
    "  \n"
   ]
  },
  {
   "cell_type": "markdown",
   "metadata": {},
   "source": [
    "## MAP , REDUCE, FILTER"
   ]
  },
  {
   "cell_type": "code",
   "execution_count": 6,
   "metadata": {},
   "outputs": [
    {
     "name": "stdout",
     "output_type": "stream",
     "text": [
      "[2, 4, 6]\n"
     ]
    },
    {
     "ename": "TypeError",
     "evalue": "'list' object is not callable",
     "output_type": "error",
     "traceback": [
      "\u001b[1;31m---------------------------------------------------------------------------\u001b[0m",
      "\u001b[1;31mTypeError\u001b[0m                                 Traceback (most recent call last)",
      "\u001b[1;32m<ipython-input-6-2c1ba7687ccb>\u001b[0m in \u001b[0;36m<module>\u001b[1;34m()\u001b[0m\n\u001b[0;32m      8\u001b[0m \u001b[1;33m\u001b[0m\u001b[0m\n\u001b[0;32m      9\u001b[0m \u001b[1;33m\u001b[0m\u001b[0m\n\u001b[1;32m---> 10\u001b[1;33m \u001b[0ma\u001b[0m\u001b[1;33m=\u001b[0m\u001b[0mlist\u001b[0m\u001b[1;33m(\u001b[0m\u001b[0mmap\u001b[0m \u001b[1;33m(\u001b[0m\u001b[1;32mlambda\u001b[0m \u001b[0mx\u001b[0m \u001b[1;33m:\u001b[0m \u001b[0mx\u001b[0m\u001b[1;33m*\u001b[0m\u001b[1;36m2\u001b[0m   \u001b[1;33m,\u001b[0m \u001b[0ml\u001b[0m\u001b[1;33m)\u001b[0m\u001b[1;33m)\u001b[0m\u001b[1;33m\u001b[0m\u001b[0m\n\u001b[0m\u001b[0;32m     11\u001b[0m \u001b[0mprint\u001b[0m\u001b[1;33m(\u001b[0m\u001b[0ma\u001b[0m\u001b[1;33m)\u001b[0m\u001b[1;33m\u001b[0m\u001b[0m\n",
      "\u001b[1;31mTypeError\u001b[0m: 'list' object is not callable"
     ]
    }
   ],
   "source": [
    "l=[1,2,3]\n",
    "l2=[]\n",
    "def sq(a):\n",
    "    return(a*2)\n",
    "for i in l:\n",
    "    l2.append(sq(i))\n",
    "print(l2)\n",
    "\n",
    "\n",
    "a=list(map (lambda x : x*2   , l))\n",
    "print(a)"
   ]
  },
  {
   "cell_type": "code",
   "execution_count": 4,
   "metadata": {},
   "outputs": [
    {
     "ename": "TypeError",
     "evalue": "'list' object is not callable",
     "output_type": "error",
     "traceback": [
      "\u001b[1;31m---------------------------------------------------------------------------\u001b[0m",
      "\u001b[1;31mTypeError\u001b[0m                                 Traceback (most recent call last)",
      "\u001b[1;32m<ipython-input-4-6ccbd38a2d79>\u001b[0m in \u001b[0;36m<module>\u001b[1;34m()\u001b[0m\n\u001b[0;32m      2\u001b[0m \u001b[1;31m# filter() with lambda()\u001b[0m\u001b[1;33m\u001b[0m\u001b[1;33m\u001b[0m\u001b[0m\n\u001b[0;32m      3\u001b[0m \u001b[0mli\u001b[0m \u001b[1;33m=\u001b[0m \u001b[1;33m[\u001b[0m\u001b[1;36m5\u001b[0m\u001b[1;33m,\u001b[0m \u001b[1;36m7\u001b[0m\u001b[1;33m,\u001b[0m \u001b[1;36m22\u001b[0m\u001b[1;33m,\u001b[0m \u001b[1;36m97\u001b[0m\u001b[1;33m,\u001b[0m \u001b[1;36m54\u001b[0m\u001b[1;33m,\u001b[0m \u001b[1;36m62\u001b[0m\u001b[1;33m,\u001b[0m \u001b[1;36m77\u001b[0m\u001b[1;33m,\u001b[0m \u001b[1;36m23\u001b[0m\u001b[1;33m,\u001b[0m \u001b[1;36m73\u001b[0m\u001b[1;33m,\u001b[0m \u001b[1;36m61\u001b[0m\u001b[1;33m]\u001b[0m\u001b[1;33m\u001b[0m\u001b[0m\n\u001b[1;32m----> 4\u001b[1;33m \u001b[0mfinal_list\u001b[0m \u001b[1;33m=\u001b[0m \u001b[0mlist\u001b[0m\u001b[1;33m(\u001b[0m\u001b[0mfilter\u001b[0m\u001b[1;33m(\u001b[0m\u001b[1;32mlambda\u001b[0m \u001b[0mx\u001b[0m\u001b[1;33m:\u001b[0m \u001b[1;33m(\u001b[0m\u001b[0mx\u001b[0m\u001b[1;33m%\u001b[0m\u001b[1;36m2\u001b[0m \u001b[1;33m!=\u001b[0m \u001b[1;36m0\u001b[0m\u001b[1;33m)\u001b[0m \u001b[1;33m,\u001b[0m \u001b[0mli\u001b[0m\u001b[1;33m)\u001b[0m\u001b[1;33m)\u001b[0m\u001b[1;33m\u001b[0m\u001b[0m\n\u001b[0m\u001b[0;32m      5\u001b[0m \u001b[0mprint\u001b[0m\u001b[1;33m(\u001b[0m\u001b[0mfinal_list\u001b[0m\u001b[1;33m)\u001b[0m\u001b[1;33m\u001b[0m\u001b[0m\n",
      "\u001b[1;31mTypeError\u001b[0m: 'list' object is not callable"
     ]
    }
   ],
   "source": [
    "# Python code to illustrate \n",
    "# filter() with lambda() \n",
    "li = [5, 7, 22, 97, 54, 62, 77, 23, 73, 61] \n",
    "final_list = list(filter(lambda x: (x%2 != 0) , li)) \n",
    "print(final_list)"
   ]
  },
  {
   "cell_type": "code",
   "execution_count": 5,
   "metadata": {},
   "outputs": [
    {
     "ename": "TypeError",
     "evalue": "'list' object is not callable",
     "output_type": "error",
     "traceback": [
      "\u001b[1;31m---------------------------------------------------------------------------\u001b[0m",
      "\u001b[1;31mTypeError\u001b[0m                                 Traceback (most recent call last)",
      "\u001b[1;32m<ipython-input-5-abd3fd5186f4>\u001b[0m in \u001b[0;36m<module>\u001b[1;34m()\u001b[0m\n\u001b[0;32m      3\u001b[0m \u001b[1;31m# to get double of a list.\u001b[0m\u001b[1;33m\u001b[0m\u001b[1;33m\u001b[0m\u001b[0m\n\u001b[0;32m      4\u001b[0m \u001b[0mli\u001b[0m \u001b[1;33m=\u001b[0m \u001b[1;33m[\u001b[0m\u001b[1;36m5\u001b[0m\u001b[1;33m,\u001b[0m \u001b[1;36m7\u001b[0m\u001b[1;33m,\u001b[0m \u001b[1;36m22\u001b[0m\u001b[1;33m,\u001b[0m \u001b[1;36m97\u001b[0m\u001b[1;33m,\u001b[0m \u001b[1;36m54\u001b[0m\u001b[1;33m,\u001b[0m \u001b[1;36m62\u001b[0m\u001b[1;33m,\u001b[0m \u001b[1;36m77\u001b[0m\u001b[1;33m,\u001b[0m \u001b[1;36m23\u001b[0m\u001b[1;33m,\u001b[0m \u001b[1;36m73\u001b[0m\u001b[1;33m,\u001b[0m \u001b[1;36m61\u001b[0m\u001b[1;33m]\u001b[0m\u001b[1;33m\u001b[0m\u001b[0m\n\u001b[1;32m----> 5\u001b[1;33m \u001b[0mfinal_list\u001b[0m \u001b[1;33m=\u001b[0m \u001b[0mlist\u001b[0m\u001b[1;33m(\u001b[0m\u001b[0mmap\u001b[0m\u001b[1;33m(\u001b[0m\u001b[1;32mlambda\u001b[0m \u001b[0mx\u001b[0m\u001b[1;33m:\u001b[0m \u001b[0mx\u001b[0m\u001b[1;33m*\u001b[0m\u001b[1;36m2\u001b[0m \u001b[1;33m,\u001b[0m \u001b[0mli\u001b[0m\u001b[1;33m)\u001b[0m\u001b[1;33m)\u001b[0m\u001b[1;33m\u001b[0m\u001b[0m\n\u001b[0m\u001b[0;32m      6\u001b[0m \u001b[0mprint\u001b[0m\u001b[1;33m(\u001b[0m\u001b[0mfinal_list\u001b[0m\u001b[1;33m)\u001b[0m\u001b[1;33m\u001b[0m\u001b[0m\n",
      "\u001b[1;31mTypeError\u001b[0m: 'list' object is not callable"
     ]
    }
   ],
   "source": [
    "# Python code to illustrate  \n",
    "# map() with lambda()  \n",
    "# to get double of a list. \n",
    "li = [5, 7, 22, 97, 54, 62, 77, 23, 73, 61] \n",
    "final_list = list(map(lambda x: x*2 , li)) \n",
    "print(final_list)"
   ]
  },
  {
   "cell_type": "code",
   "execution_count": 96,
   "metadata": {},
   "outputs": [
    {
     "name": "stdout",
     "output_type": "stream",
     "text": [
      "193\n"
     ]
    }
   ],
   "source": [
    "# Python code to illustrate  \n",
    "# reduce() with lambda() \n",
    "# to get sum of a list \n",
    "from functools import reduce\n",
    "li = [5, 8, 10, 20, 50, 100] \n",
    "sum = reduce((lambda x, y: x + y), li) \n",
    "print (sum)\n",
    "\n",
    "# Here the result the list like (((((5+8)+10)+20)+50)+100)."
   ]
  },
  {
   "cell_type": "markdown",
   "metadata": {},
   "source": [
    "## SET function"
   ]
  },
  {
   "cell_type": "code",
   "execution_count": 1,
   "metadata": {},
   "outputs": [
    {
     "name": "stdout",
     "output_type": "stream",
     "text": [
      "{1, 2, 3, 4}\n"
     ]
    }
   ],
   "source": [
    "###Set Function \n",
    "a= set([1,2,3,4])\n",
    "print(a)"
   ]
  },
  {
   "cell_type": "code",
   "execution_count": 2,
   "metadata": {},
   "outputs": [
    {
     "name": "stdout",
     "output_type": "stream",
     "text": [
      "{1, 2, 3, 4, 5, 6, 7}\n",
      "{5, 6, 7, 8, 9, 10, 11, 12, 13, 14, 15, 16, 17, 18, 19}\n"
     ]
    }
   ],
   "source": [
    "s1=set()\n",
    "s2=set()\n",
    "for i in range(1,8):\n",
    "    s1.add(i)\n",
    "for i in range (5,20):\n",
    "    s2.add(i)\n",
    "print(s1)\n",
    "print(s2)"
   ]
  },
  {
   "cell_type": "code",
   "execution_count": 3,
   "metadata": {},
   "outputs": [
    {
     "name": "stdout",
     "output_type": "stream",
     "text": [
      "{1, 2, 3, 4, 5, 6, 7, 8, 9, 10, 11, 12, 13, 14, 15, 16, 17, 18, 19}\n",
      "{5, 6, 7}\n"
     ]
    }
   ],
   "source": [
    "#Union and Intersection \n",
    "print(s1|s2)  ##Union\n",
    "\n",
    "print(s1&s2)  ##Intersection"
   ]
  },
  {
   "cell_type": "code",
   "execution_count": 4,
   "metadata": {},
   "outputs": [],
   "source": [
    "#s1.clear()"
   ]
  },
  {
   "cell_type": "code",
   "execution_count": 5,
   "metadata": {},
   "outputs": [
    {
     "name": "stdout",
     "output_type": "stream",
     "text": [
      "[1, 2, 3, 1, 3]\n",
      "[1, 2, 3]\n"
     ]
    }
   ],
   "source": [
    "l=[1,2,3,1,3]\n",
    "print(l)\n",
    "l=set(l)\n",
    "print(list(l))"
   ]
  },
  {
   "cell_type": "code",
   "execution_count": 19,
   "metadata": {},
   "outputs": [
    {
     "data": {
      "text/plain": [
       "10"
      ]
     },
     "execution_count": 19,
     "metadata": {},
     "output_type": "execute_result"
    }
   ],
   "source": [
    "sum([1,4,5])"
   ]
  },
  {
   "cell_type": "code",
   "execution_count": 22,
   "metadata": {},
   "outputs": [
    {
     "name": "stdout",
     "output_type": "stream",
     "text": [
      "[6, 7, 8, 9, 10]\n",
      "[2, 4, 6, 8, 10, 12, 14, 16, 18, 20]\n",
      "55\n"
     ]
    }
   ],
   "source": [
    "from functools import reduce\n",
    "\n",
    "my_list = [1,2,3,4,5,6,7,8,9,10]\n",
    "\n",
    "# Use lambda function with `filter()`\n",
    "filtered_list = list(filter(lambda x: (x*2 > 10), my_list))\n",
    "\n",
    "# Use lambda function with `map()`\n",
    "mapped_list = list(map(lambda x: x*2, my_list))\n",
    "\n",
    "# Use lambda function with `reduce()`\n",
    "reduced_list = reduce(lambda x, y: x+y, my_list)\n",
    "\n",
    "print(filtered_list)\n",
    "print(mapped_list)\n",
    "print(reduced_list)"
   ]
  },
  {
   "cell_type": "code",
   "execution_count": 23,
   "metadata": {},
   "outputs": [
    {
     "name": "stdout",
     "output_type": "stream",
     "text": [
      "40 is O.K\n",
      "26 is O.K\n",
      "39 is O.K\n",
      "30 is O.K\n"
     ]
    },
    {
     "ename": "AssertionError",
     "evalue": "Batch is Rejected",
     "output_type": "error",
     "traceback": [
      "\u001b[1;31m---------------------------------------------------------------------------\u001b[0m",
      "\u001b[1;31mAssertionError\u001b[0m                            Traceback (most recent call last)",
      "\u001b[1;32m<ipython-input-23-c93a3a951727>\u001b[0m in \u001b[0;36m<module>\u001b[1;34m()\u001b[0m\n\u001b[0;32m     11\u001b[0m \u001b[1;31m# using assert to check for temperature greater than cut\u001b[0m\u001b[1;33m\u001b[0m\u001b[1;33m\u001b[0m\u001b[0m\n\u001b[0;32m     12\u001b[0m \u001b[1;32mfor\u001b[0m \u001b[0mi\u001b[0m \u001b[1;32min\u001b[0m \u001b[0mbatch\u001b[0m\u001b[1;33m:\u001b[0m\u001b[1;33m\u001b[0m\u001b[0m\n\u001b[1;32m---> 13\u001b[1;33m     \u001b[1;32massert\u001b[0m \u001b[0mi\u001b[0m \u001b[1;33m>=\u001b[0m \u001b[1;36m26\u001b[0m\u001b[1;33m,\u001b[0m \u001b[1;34m\"Batch is Rejected\"\u001b[0m\u001b[1;33m\u001b[0m\u001b[0m\n\u001b[0m\u001b[0;32m     14\u001b[0m     \u001b[0mprint\u001b[0m \u001b[1;33m(\u001b[0m\u001b[0mstr\u001b[0m\u001b[1;33m(\u001b[0m\u001b[0mi\u001b[0m\u001b[1;33m)\u001b[0m \u001b[1;33m+\u001b[0m \u001b[1;34m\" is O.K\"\u001b[0m \u001b[1;33m)\u001b[0m\u001b[1;33m\u001b[0m\u001b[0m\n",
      "\u001b[1;31mAssertionError\u001b[0m: Batch is Rejected"
     ]
    }
   ],
   "source": [
    "# Python 3 code to demonstrate  \n",
    "# working of assert  \n",
    "# Application \n",
    "  \n",
    "# initializing list of foods temperatures \n",
    "batch = [ 40, 26, 39, 30, 25, 21] \n",
    "  \n",
    "# initializing cut temperature \n",
    "cut = 26\n",
    "  \n",
    "# using assert to check for temperature greater than cut \n",
    "for i in batch: \n",
    "    assert i >= 26, \"Batch is Rejected\"\n",
    "    print (str(i) + \" is O.K\" )"
   ]
  },
  {
   "cell_type": "markdown",
   "metadata": {},
   "source": [
    "## OOPS concepts"
   ]
  },
  {
   "cell_type": "code",
   "execution_count": 1,
   "metadata": {},
   "outputs": [
    {
     "name": "stdout",
     "output_type": "stream",
     "text": [
      "Name\n"
     ]
    }
   ],
   "source": [
    "class version1():\n",
    "    def name(self):\n",
    "        print(\"Name\")\n",
    "app=version1()\n",
    "app.name()"
   ]
  },
  {
   "cell_type": "code",
   "execution_count": 100,
   "metadata": {},
   "outputs": [
    {
     "name": "stdout",
     "output_type": "stream",
     "text": [
      "adress box\n",
      "Name Box\n",
      "age Box\n"
     ]
    }
   ],
   "source": [
    "class version1:\n",
    "    def name(self):\n",
    "        print(\"Name Box\")\n",
    "    def age(self):\n",
    "        print(\"age Box\")\n",
    "class version2(version1):\n",
    "    def add(self):\n",
    "        print(\"adress box\")\n",
    "if __name__=='__main__':\n",
    "    app=version2()\n",
    "    app.add()\n",
    "    app.name()\n",
    "    app.age()\n",
    "\n",
    "\n"
   ]
  },
  {
   "cell_type": "code",
   "execution_count": 11,
   "metadata": {},
   "outputs": [
    {
     "name": "stdout",
     "output_type": "stream",
     "text": [
      "parrot can fly\n",
      "penguin can not fly\n"
     ]
    }
   ],
   "source": [
    "# Polymorphism \n",
    "\n",
    "class parrot:\n",
    "    def fly(self):\n",
    "        print(\"parrot can fly\")\n",
    "    def swim(self):\n",
    "        print(\"parrot can not swim\")\n",
    "class penguin:\n",
    "    def fly(self):\n",
    "        print(\"penguin can not fly\")\n",
    "    def swim(self):\n",
    "        print(\"penguin can swim\")\n",
    "        \n",
    "# common interface\n",
    "def flying_test(bird):\n",
    "    bird.fly()\n",
    "par=parrot()\n",
    "pen=penguin()\n",
    "\n",
    "flying_test(par)\n",
    "flying_test(pen)"
   ]
  },
  {
   "cell_type": "code",
   "execution_count": 32,
   "metadata": {},
   "outputs": [
    {
     "name": "stdout",
     "output_type": "stream",
     "text": [
      "selling price is  900\n",
      "selling price is  900\n",
      "selling price is  1000\n"
     ]
    }
   ],
   "source": [
    "#data encapsulation\n",
    "\n",
    "class computer:\n",
    "    def __init__(self):\n",
    "        self.__maxprice=900\n",
    "    def sell(self):\n",
    "        print(\"selling price is \",self.__maxprice)\n",
    "    def selmaxPrice(self,price):\n",
    "        self.__maxprice=price\n",
    "c=computer()\n",
    "c.sell()\n",
    "\n",
    "#change the price \n",
    "c.__maxprice=1000\n",
    "c.sell()\n",
    "\n",
    "# using setter function \n",
    "c.selmaxPrice(1000)\n",
    "c.sell()"
   ]
  },
  {
   "cell_type": "code",
   "execution_count": 7,
   "metadata": {},
   "outputs": [
    {
     "name": "stdout",
     "output_type": "stream",
     "text": [
      "name is:  bird\n",
      "age is:  10\n",
      "sing\n",
      "dance\n"
     ]
    }
   ],
   "source": [
    "# Constructor (Initilization)\n",
    "#create method :\n",
    "class parrot:\n",
    "    def __init__(self,name,age):  #artibutes\n",
    "        self.name=name \n",
    "        self.age=age\n",
    "        print(\"name is: \",self.name)\n",
    "        print(\"age is: \",self.age)\n",
    "    def sing(self):\n",
    "        print(\"sing\")\n",
    "    def dance(self):\n",
    "        print(\"dance\")\n",
    "bird=parrot('bird',10)\n",
    "\n",
    "bird.sing()\n",
    "bird.dance()\n",
    "        \n",
    "    "
   ]
  },
  {
   "cell_type": "code",
   "execution_count": 5,
   "metadata": {},
   "outputs": [
    {
     "data": {
      "text/plain": [
       "62"
      ]
     },
     "execution_count": 5,
     "metadata": {},
     "output_type": "execute_result"
    }
   ],
   "source": [
    "import random\n",
    "random.randint(1,100)"
   ]
  },
  {
   "cell_type": "code",
   "execution_count": 6,
   "metadata": {},
   "outputs": [
    {
     "ename": "AttributeError",
     "evalue": "'int' object has no attribute 'shape'",
     "output_type": "error",
     "traceback": [
      "\u001b[1;31m---------------------------------------------------------------------------\u001b[0m",
      "\u001b[1;31mAttributeError\u001b[0m                            Traceback (most recent call last)",
      "\u001b[1;32m<ipython-input-6-1e21e1affd87>\u001b[0m in \u001b[0;36m<module>\u001b[1;34m()\u001b[0m\n\u001b[0;32m      2\u001b[0m \u001b[1;32mimport\u001b[0m \u001b[0mnumpy\u001b[0m \u001b[1;32mas\u001b[0m \u001b[0mnp\u001b[0m\u001b[1;33m\u001b[0m\u001b[0m\n\u001b[0;32m      3\u001b[0m \u001b[0minp\u001b[0m\u001b[1;33m=\u001b[0m\u001b[1;36m3\u001b[0m\u001b[1;33m\u001b[0m\u001b[0m\n\u001b[1;32m----> 4\u001b[1;33m \u001b[0mr\u001b[0m\u001b[1;33m=\u001b[0m\u001b[0mnp\u001b[0m\u001b[1;33m.\u001b[0m\u001b[0mrandom\u001b[0m\u001b[1;33m.\u001b[0m\u001b[0mrand\u001b[0m\u001b[1;33m(\u001b[0m\u001b[0minp\u001b[0m\u001b[1;33m.\u001b[0m\u001b[0mshape\u001b[0m\u001b[1;33m(\u001b[0m\u001b[1;33m)\u001b[0m\u001b[1;33m,\u001b[0m\u001b[1;36m4\u001b[0m\u001b[1;33m)\u001b[0m\u001b[1;33m\u001b[0m\u001b[0m\n\u001b[0m",
      "\u001b[1;31mAttributeError\u001b[0m: 'int' object has no attribute 'shape'"
     ]
    }
   ],
   "source": [
    "\n",
    "import numpy as np \n",
    "inp=3\n",
    "r=np.random.rand(inp.shape(),4) "
   ]
  },
  {
   "cell_type": "code",
   "execution_count": 41,
   "metadata": {},
   "outputs": [
    {
     "data": {
      "text/plain": [
       "3"
      ]
     },
     "execution_count": 41,
     "metadata": {},
     "output_type": "execute_result"
    }
   ],
   "source": [
    "class NeuralNetwork:\n",
    "    def __init__(self, x, y):\n",
    "        self.input      = x\n",
    "a=NeuralNetwork(3,2)\n",
    "a.input"
   ]
  },
  {
   "cell_type": "code",
   "execution_count": null,
   "metadata": {},
   "outputs": [],
   "source": []
  },
  {
   "cell_type": "code",
   "execution_count": 185,
   "metadata": {},
   "outputs": [
    {
     "name": "stdout",
     "output_type": "stream",
     "text": [
      "Model is audi a4\n",
      "color is blue\n",
      "Model is ferrari 488\n",
      "color is green\n"
     ]
    }
   ],
   "source": [
    "# Write Python3 code here  ,Uses of self parameter \n",
    "  \n",
    "class car(): \n",
    "      \n",
    "    # init method or constructor \n",
    "    def __init__(self, model, color): \n",
    "        self.model = model \n",
    "        self.color = color \n",
    "          \n",
    "    def show(self): \n",
    "        print(\"Model is\", self.model ) \n",
    "        print(\"color is\", self.color ) \n",
    "          \n",
    "# both objects have different self which  \n",
    "# contain their attributes \n",
    "audi = car(\"audi a4\", \"blue\") \n",
    "ferrari = car(\"ferrari 488\", \"green\") \n",
    "  \n",
    "audi.show()     # same output as car.show(audi) \n",
    "ferrari.show()  # same output as car.show(ferrari) \n",
    "  \n",
    "# Behind the scene, in every instance method  \n",
    "# call, python sends the instances also with \n",
    "# that method call like car.show(audi) "
   ]
  },
  {
   "cell_type": "code",
   "execution_count": 98,
   "metadata": {},
   "outputs": [
    {
     "name": "stdout",
     "output_type": "stream",
     "text": [
      "[[0.02427678]\n",
      " [0.98165625]\n",
      " [0.97753138]\n",
      " [0.02106706]]\n",
      "\n",
      "[[-0.02427678]\n",
      " [ 0.01834375]\n",
      " [ 0.02246862]\n",
      " [-0.02106706]]\n"
     ]
    }
   ],
   "source": [
    "import numpy as np\n",
    "\n",
    "def sigmoid(x):\n",
    "    return 1.0/(1+ np.exp(-x))\n",
    "\n",
    "def sigmoid_derivative(x):\n",
    "    return x * (1.0 - x)\n",
    "\n",
    "class NeuralNetwork:\n",
    "    def __init__(self, x, y):\n",
    "        self.input      = x\n",
    "        self.weights1   = np.random.rand(self.input.shape[1],4) \n",
    "        self.weights2   = np.random.rand(4,1)                 \n",
    "        self.y          = y\n",
    "        self.output     = np.zeros(self.y.shape)\n",
    "        '''print(self.input)\n",
    "        print()\n",
    "        print(self.weights1)'''\n",
    "\n",
    "    def feedforward(self):\n",
    "        self.layer1 = sigmoid(np.dot(self.input, self.weights1))\n",
    "        self.output = sigmoid(np.dot(self.layer1, self.weights2))\n",
    "        #print(self.output)\n",
    "    def backprop(self):\n",
    "        # application of the chain rule to find derivative of the loss function with respect to weights2 and weights1\n",
    "        d_weights2 = np.dot(self.layer1.T, (2*(self.y - self.output) * sigmoid_derivative(self.output)))\n",
    "        d_weights1 = np.dot(self.input.T,  (np.dot(2*(self.y - self.output) * sigmoid_derivative(self.output), self.weights2.T) * sigmoid_derivative(self.layer1)))\n",
    "\n",
    "        # update the weights with the derivative (slope) of the loss function\n",
    "        self.weights1 += d_weights1\n",
    "        self.weights2 += d_weights2\n",
    "\n",
    "\n",
    "if __name__ == \"__main__\":\n",
    "    X = np.array([[0,0,1],\n",
    "                  [0,1,1],\n",
    "                  [1,0,1],\n",
    "                  [1,1,1]])\n",
    "    y = np.array([[0],[1],[1],[0]])\n",
    "    nn = NeuralNetwork(X,y)\n",
    "  \n",
    "    for i in range(1500):\n",
    "        nn.feedforward()\n",
    "        nn.backprop()\n",
    "    \n",
    "    \n",
    "    print(nn.output)\n",
    "    print()\n",
    "    print(nn.y - nn.output)"
   ]
  },
  {
   "cell_type": "code",
   "execution_count": 68,
   "metadata": {},
   "outputs": [
    {
     "name": "stdout",
     "output_type": "stream",
     "text": [
      "3\n"
     ]
    },
    {
     "data": {
      "text/plain": [
       "array([[0.40216904, 0.96341725, 0.54985949, 0.25161721],\n",
       "       [0.09360005, 0.11534328, 0.31993782, 0.97146839],\n",
       "       [0.50107061, 0.85709729, 0.88458149, 0.45469978]])"
      ]
     },
     "execution_count": 68,
     "metadata": {},
     "output_type": "execute_result"
    }
   ],
   "source": [
    " inp = np.array([[0,0,1],\n",
    "                  [0,1,1],\n",
    "                  [1,0,1],\n",
    "                  [1,1,1]])\n",
    "print(inp.shape[1])\n",
    "\n",
    "a=np.random.rand(inp.shape[1],4) \n",
    "a"
   ]
  },
  {
   "cell_type": "code",
   "execution_count": 82,
   "metadata": {},
   "outputs": [
    {
     "name": "stdout",
     "output_type": "stream",
     "text": [
      "[[0 0 1]\n",
      " [0 1 1]\n",
      " [1 0 1]\n",
      " [1 1 1]]\n",
      "[[0.07528181 0.69910328 0.76580821 0.14004023]\n",
      " [0.63577351 0.61482715 0.93174853 0.31571078]\n",
      " [0.91413848 0.69320577 0.20644607 0.6279208 ]]\n",
      "[[0.91413848 0.69320577 0.20644607 0.6279208 ]\n",
      " [1.54991198 1.30803292 1.1381946  0.94363158]\n",
      " [0.98942028 1.39230905 0.97225428 0.76796103]\n",
      " [1.62519379 2.0071362  1.90400281 1.08367181]]\n"
     ]
    }
   ],
   "source": [
    " a = np.array([[0,0,1],\n",
    "                  [0,1,1],\n",
    "                  [1,0,1],\n",
    "                  [1,1,1]])\n",
    "b=np.random.rand(3,4)  \n",
    "print(a)\n",
    "print(b)\n",
    "c=np.dot(a,b)\n",
    "print(c)"
   ]
  },
  {
   "cell_type": "code",
   "execution_count": 72,
   "metadata": {},
   "outputs": [
    {
     "name": "stdout",
     "output_type": "stream",
     "text": [
      "(4, 1)\n"
     ]
    },
    {
     "data": {
      "text/plain": [
       "array([[0.],\n",
       "       [0.],\n",
       "       [0.],\n",
       "       [0.]])"
      ]
     },
     "execution_count": 72,
     "metadata": {},
     "output_type": "execute_result"
    }
   ],
   "source": [
    "print(y.shape)\n",
    "np.zeros(y.shape)"
   ]
  },
  {
   "cell_type": "code",
   "execution_count": 103,
   "metadata": {},
   "outputs": [
    {
     "data": {
      "text/plain": [
       "2"
      ]
     },
     "execution_count": 103,
     "metadata": {},
     "output_type": "execute_result"
    }
   ],
   "source": [
    "5/2\n"
   ]
  },
  {
   "cell_type": "code",
   "execution_count": 102,
   "metadata": {},
   "outputs": [
    {
     "data": {
      "text/plain": [
       "2"
      ]
     },
     "execution_count": 102,
     "metadata": {},
     "output_type": "execute_result"
    }
   ],
   "source": [
    "5//2"
   ]
  },
  {
   "cell_type": "code",
   "execution_count": 115,
   "metadata": {},
   "outputs": [
    {
     "data": {
      "text/plain": [
       "'there!'"
      ]
     },
     "execution_count": 115,
     "metadata": {},
     "output_type": "execute_result"
    }
   ],
   "source": [
    "class MyClass:\n",
    " Greeting = \"\"\n",
    " def __init__(self, Name=\"there\"):\n",
    "  self.Greeting = Name + \"!\"\n",
    " def SayHello(self):\n",
    "  print(\"Hello {0}\".format(self.Greeting))\n",
    "a=MyClass()\n",
    "a.Greeting"
   ]
  },
  {
   "cell_type": "code",
   "execution_count": null,
   "metadata": {},
   "outputs": [],
   "source": []
  },
  {
   "cell_type": "code",
   "execution_count": 162,
   "metadata": {},
   "outputs": [
    {
     "name": "stdout",
     "output_type": "stream",
     "text": [
      "initial string :  123()#$ABGFDabcjw abceddfgh\n",
      "first string result:   ABGFDabcjw\n",
      "second string result:  abceddfgh\n"
     ]
    },
    {
     "name": "stderr",
     "output_type": "stream",
     "text": [
      "/home/sands/anaconda3/lib/python3.6/re.py:212: FutureWarning: split() requires a non-empty pattern match.\n",
      "  return _compile(pattern, flags).split(string, maxsplit)\n"
     ]
    }
   ],
   "source": [
    "# Python code to demonstrate \n",
    "# to get characters from string \n",
    "import re \n",
    "  \n",
    "# initialising string \n",
    "ini_string = \"123()#$ABGFDabcjw\"\n",
    "ini_string2 = \"abceddfgh\"\n",
    "  \n",
    "# printing strings \n",
    "print (\"initial string : \", ini_string, ini_string2) \n",
    "  \n",
    "# code to find characters in string \n",
    "res1 = \" \".join(re.split(\"[^a-zA-Z]*\", ini_string)) \n",
    "res2 = \" \".join(re.split(\"[^a-zA-Z]*\", ini_string2)) \n",
    "  \n",
    "# printing resultant string \n",
    "print (\"first string result: \", str(res1)) \n",
    "print (\"second string result: \", str(res2)) \n"
   ]
  },
  {
   "cell_type": "code",
   "execution_count": 190,
   "metadata": {},
   "outputs": [
    {
     "name": "stdout",
     "output_type": "stream",
     "text": [
      "hello\n"
     ]
    }
   ],
   "source": [
    "class art:\n",
    "    def add(self):\n",
    "        print(\"hello\")\n",
    "a=art()\n",
    "a.add()"
   ]
  },
  {
   "cell_type": "code",
   "execution_count": 4,
   "metadata": {},
   "outputs": [
    {
     "data": {
      "text/plain": [
       "10"
      ]
     },
     "execution_count": 4,
     "metadata": {},
     "output_type": "execute_result"
    }
   ],
   "source": [
    "f=lambda x,y : x+y\n",
    "f(5,5)"
   ]
  },
  {
   "cell_type": "code",
   "execution_count": 16,
   "metadata": {},
   "outputs": [
    {
     "name": "stdout",
     "output_type": "stream",
     "text": [
      "[2, 4, 6]\n"
     ]
    }
   ],
   "source": [
    "l=[1,2,3]\n",
    "a=list(map (lambda x : x*2   , l))\n",
    "print(a)"
   ]
  },
  {
   "cell_type": "code",
   "execution_count": 19,
   "metadata": {},
   "outputs": [
    {
     "name": "stdout",
     "output_type": "stream",
     "text": [
      "[2, 4, 6, 8]\n"
     ]
    }
   ],
   "source": [
    "l=[1,2,3,4,5,6,7,8,9]\n",
    "\n",
    "a=list(filter(lambda x: x%2==0 , l))\n",
    "print(a)"
   ]
  },
  {
   "cell_type": "markdown",
   "metadata": {},
   "source": [
    "## Modules"
   ]
  },
  {
   "cell_type": "code",
   "execution_count": 10,
   "metadata": {},
   "outputs": [
    {
     "name": "stdout",
     "output_type": "stream",
     "text": [
      "I am from another module\n",
      "10\n"
     ]
    }
   ],
   "source": [
    "from userlib import greeting ,add\n",
    "greeting()\n",
    "add(5,5)"
   ]
  },
  {
   "cell_type": "code",
   "execution_count": null,
   "metadata": {},
   "outputs": [],
   "source": []
  },
  {
   "cell_type": "code",
   "execution_count": 25,
   "metadata": {},
   "outputs": [
    {
     "name": "stdout",
     "output_type": "stream",
     "text": [
      "hi hello i am from Text ...!!\n"
     ]
    }
   ],
   "source": [
    "f= open (\"text.txt\",'r')\n",
    "file= f.read()\n",
    "print(file)"
   ]
  },
  {
   "cell_type": "code",
   "execution_count": 35,
   "metadata": {},
   "outputs": [
    {
     "name": "stdout",
     "output_type": "stream",
     "text": [
      "hi hello i am from Text ...!!\n"
     ]
    }
   ],
   "source": [
    "with open (\"text.txt\", 'r') as fp:\n",
    "    fi=fp.read()\n",
    "print(fi)"
   ]
  },
  {
   "cell_type": "code",
   "execution_count": 38,
   "metadata": {},
   "outputs": [
    {
     "name": "stdout",
     "output_type": "stream",
     "text": [
      "('Murugan', 'is', 'a', 'Good')\n"
     ]
    }
   ],
   "source": [
    "def argg(*args):\n",
    "    print(args)\n",
    "argg(\"Murugan\", \"is\", \"a\", \"Good\")"
   ]
  },
  {
   "cell_type": "code",
   "execution_count": 55,
   "metadata": {},
   "outputs": [
    {
     "name": "stdout",
     "output_type": "stream",
     "text": [
      "Murugan\n",
      "is\n",
      "a\n",
      "Good\n"
     ]
    }
   ],
   "source": [
    "def argg(*args):\n",
    "    for i in args:\n",
    "        print(i)\n",
    "argg(\"Murugan\", \"is\", \"a\", \"Good\")"
   ]
  },
  {
   "cell_type": "code",
   "execution_count": 56,
   "metadata": {},
   "outputs": [
    {
     "name": "stdout",
     "output_type": "stream",
     "text": [
      "John's age is 25.\n",
      "Kalley's age is 22.\n",
      "Tom's age is 32.\n"
     ]
    }
   ],
   "source": [
    "# Python code to demonstrate \n",
    "# **kwargs for dynamic + named arguments \n",
    "def fn(**kwargs):  \n",
    "    for emp, age in kwargs.items(): \n",
    "        print (\"%s's age is %s.\" %(emp, age)) \n",
    "    \n",
    "fn(John=25, Kalley=22, Tom=32)"
   ]
  },
  {
   "cell_type": "markdown",
   "metadata": {},
   "source": [
    "## Errror Handling"
   ]
  },
  {
   "cell_type": "code",
   "execution_count": 7,
   "metadata": {},
   "outputs": [
    {
     "name": "stdout",
     "output_type": "stream",
     "text": [
      "Enter a:10\n",
      "Enter b:0\n"
     ]
    },
    {
     "ename": "ZeroDivisionError",
     "evalue": "division by zero",
     "output_type": "error",
     "traceback": [
      "\u001b[1;31m---------------------------------------------------------------------------\u001b[0m",
      "\u001b[1;31mZeroDivisionError\u001b[0m                         Traceback (most recent call last)",
      "\u001b[1;32m<ipython-input-7-7abf2128ceac>\u001b[0m in \u001b[0;36m<module>\u001b[1;34m()\u001b[0m\n\u001b[0;32m      1\u001b[0m \u001b[0ma\u001b[0m \u001b[1;33m=\u001b[0m \u001b[0mint\u001b[0m\u001b[1;33m(\u001b[0m\u001b[0minput\u001b[0m\u001b[1;33m(\u001b[0m\u001b[1;34m\"Enter a:\"\u001b[0m\u001b[1;33m)\u001b[0m\u001b[1;33m)\u001b[0m\u001b[1;33m\u001b[0m\u001b[0m\n\u001b[0;32m      2\u001b[0m \u001b[0mb\u001b[0m \u001b[1;33m=\u001b[0m \u001b[0mint\u001b[0m\u001b[1;33m(\u001b[0m\u001b[0minput\u001b[0m\u001b[1;33m(\u001b[0m\u001b[1;34m\"Enter b:\"\u001b[0m\u001b[1;33m)\u001b[0m\u001b[1;33m)\u001b[0m\u001b[1;33m\u001b[0m\u001b[0m\n\u001b[1;32m----> 3\u001b[1;33m \u001b[0mc\u001b[0m \u001b[1;33m=\u001b[0m \u001b[0ma\u001b[0m\u001b[1;33m/\u001b[0m\u001b[0mb\u001b[0m\u001b[1;33m;\u001b[0m\u001b[1;33m\u001b[0m\u001b[0m\n\u001b[0m\u001b[0;32m      4\u001b[0m \u001b[0mprint\u001b[0m\u001b[1;33m(\u001b[0m\u001b[1;34m\"a/b = %d\"\u001b[0m\u001b[1;33m%\u001b[0m\u001b[0mc\u001b[0m\u001b[1;33m)\u001b[0m\u001b[1;33m\u001b[0m\u001b[0m\n",
      "\u001b[1;31mZeroDivisionError\u001b[0m: division by zero"
     ]
    }
   ],
   "source": [
    "a = int(input(\"Enter a:\"))  \n",
    "b = int(input(\"Enter b:\"))  \n",
    "c = a/b;  \n",
    "print(\"a/b = %d\"%c) "
   ]
  },
  {
   "cell_type": "code",
   "execution_count": null,
   "metadata": {},
   "outputs": [],
   "source": [
    "#IndexError, name error , zerodivision error , keyboard interrupt,  IO error , indentation error "
   ]
  },
  {
   "cell_type": "code",
   "execution_count": 8,
   "metadata": {},
   "outputs": [
    {
     "name": "stdout",
     "output_type": "stream",
     "text": [
      "Enter a number between 1 - 10gvgv\n"
     ]
    },
    {
     "ename": "ValueError",
     "evalue": "invalid literal for int() with base 10: 'gvgv'",
     "output_type": "error",
     "traceback": [
      "\u001b[1;31m---------------------------------------------------------------------------\u001b[0m",
      "\u001b[1;31mValueError\u001b[0m                                Traceback (most recent call last)",
      "\u001b[1;32m<ipython-input-8-9e4c92fcdca2>\u001b[0m in \u001b[0;36m<module>\u001b[1;34m()\u001b[0m\n\u001b[1;32m----> 1\u001b[1;33m \u001b[0mnumber\u001b[0m \u001b[1;33m=\u001b[0m \u001b[0mint\u001b[0m\u001b[1;33m(\u001b[0m\u001b[0minput\u001b[0m\u001b[1;33m(\u001b[0m\u001b[1;34m\"Enter a number between 1 - 10\"\u001b[0m\u001b[1;33m)\u001b[0m\u001b[1;33m)\u001b[0m\u001b[1;33m\u001b[0m\u001b[0m\n\u001b[0m\u001b[0;32m      2\u001b[0m \u001b[1;33m\u001b[0m\u001b[0m\n\u001b[0;32m      3\u001b[0m \u001b[0mprint\u001b[0m \u001b[1;33m(\u001b[0m\u001b[1;34m\"you entered number\"\u001b[0m\u001b[1;33m,\u001b[0m \u001b[0mnumber\u001b[0m\u001b[1;33m)\u001b[0m\u001b[1;33m\u001b[0m\u001b[0m\n",
      "\u001b[1;31mValueError\u001b[0m: invalid literal for int() with base 10: 'gvgv'"
     ]
    }
   ],
   "source": [
    "number = int(input(\"Enter a number between 1 - 10\"))\n",
    "\n",
    "print (\"you entered number\", number)"
   ]
  },
  {
   "cell_type": "code",
   "execution_count": 9,
   "metadata": {},
   "outputs": [
    {
     "name": "stdout",
     "output_type": "stream",
     "text": [
      "Please enter an integer: ghkg\n",
      "No valid integer! Please try again ...\n"
     ]
    }
   ],
   "source": [
    "try:\n",
    "        n = input(\"Please enter an integer: \")\n",
    "        n = int(n)\n",
    "except ValueError:\n",
    "        print(\"No valid integer! Please try again ...\")"
   ]
  },
  {
   "cell_type": "code",
   "execution_count": 11,
   "metadata": {},
   "outputs": [
    {
     "name": "stdout",
     "output_type": "stream",
     "text": [
      "Enter a:5\n",
      "Enter b:0\n",
      "can't divide by zero\n"
     ]
    }
   ],
   "source": [
    "try:  \n",
    "    a = int(input(\"Enter a:\"))  \n",
    "    b = int(input(\"Enter b:\"))  \n",
    "    c = a/b;  \n",
    "    print(\"a/b = %d\"%c)  \n",
    "except Exception:  \n",
    "    print(\"can't divide by zero\")  \n",
    "else:  \n",
    "    print(\"Hi I am else block\") "
   ]
  },
  {
   "cell_type": "code",
   "execution_count": 11,
   "metadata": {},
   "outputs": [
    {
     "name": "stdout",
     "output_type": "stream",
     "text": [
      "Second element = 2\n",
      "An error occurred\n"
     ]
    }
   ],
   "source": [
    "# Python program to handle simple runtime error \n",
    "  \n",
    "a = [1, 2, 3] \n",
    "try:  \n",
    "    print (\"Second element = %d\"%(a[1])) \n",
    "  \n",
    "    # Throws error since there are only 3 elements in array \n",
    "    print (\"Fourth element = %d\"%(a[3]))  \n",
    "  \n",
    "except IndexError: \n",
    "    print (\"An error occurred\")"
   ]
  },
  {
   "cell_type": "code",
   "execution_count": 11,
   "metadata": {},
   "outputs": [
    {
     "name": "stdout",
     "output_type": "stream",
     "text": [
      "Please enter an integer: gcg\n",
      "No valid integer! Please try again ...\n"
     ]
    }
   ],
   "source": [
    "try:\n",
    "        n = input(\"Please enter an integer: \")\n",
    "        n = int(n)\n",
    "except ValueError:\n",
    "        print(\"No valid integer! Please try again ...\")"
   ]
  },
  {
   "cell_type": "code",
   "execution_count": 4,
   "metadata": {},
   "outputs": [
    {
     "name": "stdout",
     "output_type": "stream",
     "text": [
      "Enter a?3\n",
      "Enter b?5\n",
      "a/b =  0.6\n"
     ]
    }
   ],
   "source": [
    "try:  \n",
    "    a = int(input(\"Enter a?\"))  \n",
    "    b = int(input(\"Enter b?\"))  \n",
    "    if b is 0:  \n",
    "        raise ArithmeticError;  \n",
    "    else:  \n",
    "        print(\"a/b = \",a/b)  \n",
    "except ArithmeticError:  \n",
    "    print(\"The value of b can't be 0\") "
   ]
  },
  {
   "cell_type": "code",
   "execution_count": 3,
   "metadata": {},
   "outputs": [
    {
     "name": "stdout",
     "output_type": "stream",
     "text": [
      "Hello\n",
      "Nothing went wrong\n"
     ]
    }
   ],
   "source": [
    "try:\n",
    "  print(\"Hello\")\n",
    "except:\n",
    "  print(\"Something went wrong\")\n",
    "else:\n",
    "  print(\"Nothing went wrong\")"
   ]
  },
  {
   "cell_type": "code",
   "execution_count": 4,
   "metadata": {},
   "outputs": [
    {
     "name": "stdout",
     "output_type": "stream",
     "text": [
      "Something went wrong\n",
      "The 'try except' is finished\n"
     ]
    }
   ],
   "source": [
    "try:\n",
    "  print(x)\n",
    "except:\n",
    "  print(\"Something went wrong\")\n",
    "finally:\n",
    "  print(\"The 'try except' is finished\")"
   ]
  },
  {
   "cell_type": "code",
   "execution_count": 5,
   "metadata": {},
   "outputs": [
    {
     "name": "stdout",
     "output_type": "stream",
     "text": [
      "Something went wrong when writing to the file\n"
     ]
    },
    {
     "ename": "NameError",
     "evalue": "name 'f' is not defined",
     "output_type": "error",
     "traceback": [
      "\u001b[1;31m---------------------------------------------------------------------------\u001b[0m",
      "\u001b[1;31mNameError\u001b[0m                                 Traceback (most recent call last)",
      "\u001b[1;32m<ipython-input-5-93187982fa5c>\u001b[0m in \u001b[0;36m<module>\u001b[1;34m()\u001b[0m\n\u001b[0;32m      5\u001b[0m   \u001b[0mprint\u001b[0m\u001b[1;33m(\u001b[0m\u001b[1;34m\"Something went wrong when writing to the file\"\u001b[0m\u001b[1;33m)\u001b[0m\u001b[1;33m\u001b[0m\u001b[0m\n\u001b[0;32m      6\u001b[0m \u001b[1;32mfinally\u001b[0m\u001b[1;33m:\u001b[0m\u001b[1;33m\u001b[0m\u001b[0m\n\u001b[1;32m----> 7\u001b[1;33m   \u001b[0mf\u001b[0m\u001b[1;33m.\u001b[0m\u001b[0mclose\u001b[0m\u001b[1;33m(\u001b[0m\u001b[1;33m)\u001b[0m\u001b[1;33m\u001b[0m\u001b[0m\n\u001b[0m",
      "\u001b[1;31mNameError\u001b[0m: name 'f' is not defined"
     ]
    }
   ],
   "source": [
    "try:\n",
    "  f = open(\"demofile.txt\")\n",
    "  f.write(\"Lorum Ipsum\")\n",
    "except:\n",
    "  print(\"Something went wrong when writing to the file\")\n",
    "finally:\n",
    "  f.close()"
   ]
  },
  {
   "cell_type": "markdown",
   "metadata": {},
   "source": [
    "## Threading concept \n",
    "\n",
    "The thread is nothing but a process or task. The main benefit of using thread is you can execute multiple tasks at the same time. In this Python Threading Example, we will see how do we create Threads and work with parallel execution in python."
   ]
  },
  {
   "cell_type": "code",
   "execution_count": 14,
   "metadata": {},
   "outputs": [
    {
     "name": "stdout",
     "output_type": "stream",
     "text": [
      "Hello Dear Murugan. How are you?\n",
      "Hello Dear Dinesh. How are you?\n",
      "Hello Dear Rajesh. How are you?\n",
      "Hello Dear sugu. How are you?\n",
      "Hello Dear bala. How are you?\n",
      "Hey! Murugan, your id is 1.\n",
      "Hey! Dinesh, your id is 2.\n",
      "Hey! Rajesh, your id is 3.\n",
      "Hey! sugu, your id is 4.\n",
      "Hey! bala, your id is 5.\n",
      "Woaahh!! My work is finished..\n",
      "I took 5.025583267211914\n"
     ]
    }
   ],
   "source": [
    "import time\n",
    " \n",
    "#First Method\n",
    "def greet_them(people):\n",
    "    for person in people:\n",
    "        print(\"Hello Dear \" + person + \". How are you?\")\n",
    "        time.sleep(0.5)\n",
    " \n",
    "#Second Method\n",
    "def assign_id(people):\n",
    "    i = 1\n",
    "    for person in people:\n",
    "        print(\"Hey! {}, your id is {}.\".format(person, i))\n",
    "        i += 1\n",
    "        time.sleep(0.5)\n",
    " \n",
    " \n",
    "people = ['Murugan', 'Dinesh', 'Rajesh', 'sugu', 'bala']\n",
    " \n",
    "t = time.time()\n",
    " \n",
    "greet_them(people)\n",
    "assign_id(people)\n",
    " \n",
    "print(\"Woaahh!! My work is finished..\")\n",
    "print(\"I took \" + str(time.time() - t))"
   ]
  },
  {
   "cell_type": "markdown",
   "metadata": {},
   "source": [
    "First, let’s understand some basics about the thread. So whenever you want to create a thread in python, you have to do the following thing.\n",
    "\n",
    "Step #1: Import threading module. You have to module the standard python module threading if you are going to use thread in your python code.\n",
    "\n",
    "Step #2: We create a thread as threading.Thread(target=YourFunction, args=ArgumentsToTheFunction).\n",
    "\n",
    "Step #3: After creating the thread, we start it using the start() function.\n",
    "\n",
    "Step #4: We also call the join() function to stop the thread after completion of the task.\n",
    "\n",
    "So, now let’s modify our code, and call the methods in their separate threads. Feeling Excited? "
   ]
  },
  {
   "cell_type": "code",
   "execution_count": 15,
   "metadata": {},
   "outputs": [
    {
     "name": "stdout",
     "output_type": "stream",
     "text": [
      "Hello Dear Murugan. How are you?Hey! Murugan, your id is 1.\n",
      "\n",
      "Hey! Dinesh, your id is 2.Hello Dear Dinesh. How are you?\n",
      "\n",
      "Hey! Rajesh, your id is 3.Hello Dear Rajesh. How are you?\n",
      "\n",
      "Hey! sugu, your id is 4.Hello Dear sugu. How are you?\n",
      "\n",
      "Hey! bala, your id is 5.Hello Dear bala. How are you?\n",
      "\n",
      "Woaahh!! My work is finished..\n",
      "I took 2.5671463012695312\n"
     ]
    }
   ],
   "source": [
    "import time\n",
    "import threading\n",
    " \n",
    "# Python Threading Example for Beginners\n",
    "# First Method\n",
    "def greet_them(people):\n",
    "    for person in people:\n",
    "        print(\"Hello Dear \" + person + \". How are you?\")\n",
    "        time.sleep(0.5)\n",
    " \n",
    " \n",
    "# Second Method\n",
    "def assign_id(people):\n",
    "    i = 1\n",
    "    for person in people:\n",
    "        print(\"Hey! {}, your id is {}.\".format(person, i))\n",
    "        i += 1\n",
    "        time.sleep(0.5)\n",
    " \n",
    " \n",
    "people = ['Murugan', 'Dinesh', 'Rajesh', 'sugu', 'bala']\n",
    " \n",
    "t = time.time()\n",
    " \n",
    "#Created the Threads\n",
    "t1 = threading.Thread(target=greet_them, args=(people,))\n",
    "t2 = threading.Thread(target=assign_id, args=(people,))\n",
    " \n",
    "#Started the threads\n",
    "t1.start()\n",
    "t2.start()\n",
    " \n",
    "#Joined the threads\n",
    "t1.join()\n",
    "t2.join()\n",
    " \n",
    "print(\"Woaahh!! My work is finished..\")\n",
    "print(\"I took \" + str(time.time() - t))\n"
   ]
  },
  {
   "cell_type": "code",
   "execution_count": 1,
   "metadata": {},
   "outputs": [
    {
     "name": "stdout",
     "output_type": "stream",
     "text": [
      "1\n",
      "2\n",
      "3\n",
      "4\n",
      "5\n",
      "6\n",
      "7\n",
      "8\n",
      "9\n",
      "10\n",
      "11\n",
      "12\n",
      "13\n",
      "14\n",
      "15\n",
      "16\n",
      "17\n",
      "18\n",
      "19\n",
      "20\n",
      "21\n",
      "22\n",
      "23\n",
      "24\n",
      "25\n",
      "26\n",
      "27\n",
      "28\n",
      "29\n",
      "30\n",
      "31\n",
      "32\n",
      "33\n",
      "34\n",
      "35\n",
      "36\n",
      "37\n",
      "38\n",
      "39\n",
      "40\n",
      "41\n",
      "42\n",
      "43\n",
      "44\n",
      "45\n",
      "46\n",
      "47\n",
      "48\n",
      "49\n",
      "1\n",
      "2\n",
      "3\n",
      "4\n",
      "5\n",
      "6\n",
      "7\n",
      "8\n",
      "9\n",
      "10\n",
      "11\n",
      "12\n",
      "13\n",
      "14\n",
      "15\n",
      "16\n",
      "17\n",
      "18\n",
      "19\n",
      "20\n",
      "21\n",
      "22\n",
      "23\n",
      "24\n",
      "25\n",
      "26\n",
      "27\n",
      "28\n",
      "29\n",
      "30\n",
      "31\n",
      "32\n",
      "33\n",
      "34\n",
      "35\n",
      "36\n",
      "37\n",
      "38\n",
      "39\n",
      "40\n",
      "41\n",
      "42\n",
      "43\n",
      "44\n",
      "45\n",
      "46\n",
      "47\n",
      "48\n",
      "49\n",
      "50\n",
      "51\n",
      "52\n",
      "53\n",
      "54\n",
      "55\n",
      "56\n",
      "57\n",
      "58\n",
      "59\n",
      "60\n",
      "61\n",
      "62\n",
      "63\n",
      "64\n",
      "65\n",
      "66\n",
      "67\n",
      "68\n",
      "69\n",
      "70\n",
      "71\n",
      "72\n",
      "73\n",
      "74\n",
      "75\n",
      "76\n",
      "77\n",
      "78\n",
      "79\n",
      "80\n",
      "81\n",
      "82\n",
      "83\n",
      "84\n",
      "85\n",
      "86\n",
      "87\n",
      "88\n",
      "89\n",
      "90\n",
      "91\n",
      "92\n",
      "93\n",
      "94\n",
      "95\n",
      "96\n",
      "97\n",
      "98\n",
      "99\n",
      "100\n"
     ]
    }
   ],
   "source": [
    "class x():\n",
    "    def run(self):\n",
    "        for i in range (1,50):\n",
    "            print(i)\n",
    "\n",
    "class y():\n",
    "    def run(self):\n",
    "        for y in range (1,101):\n",
    "            print(y)\n",
    "x1=x()\n",
    "y1=y()\n",
    "x1.run()\n",
    "y1.run()"
   ]
  },
  {
   "cell_type": "code",
   "execution_count": 8,
   "metadata": {},
   "outputs": [
    {
     "name": "stdout",
     "output_type": "stream",
     "text": [
      "1\n",
      "2\n",
      "3\n",
      "4\n",
      "5\n",
      "6\n",
      "7\n",
      "8\n",
      "9\n",
      "10\n",
      "11\n",
      "12\n",
      "13\n",
      "114\n",
      "15\n",
      "16\n",
      "17\n",
      "18\n",
      "19\n",
      "\n",
      "2\n",
      "3\n",
      "4\n",
      "5\n",
      "6\n",
      "7\n",
      "8\n",
      "9\n",
      "10\n",
      "11\n",
      "12\n",
      "13\n",
      "14\n",
      "15\n",
      "16\n",
      "17\n",
      "18\n",
      "19\n",
      "20\n",
      "21\n",
      "22\n",
      "23\n",
      "24\n",
      "25\n",
      "26\n",
      "27\n",
      "28\n",
      "29\n",
      "30\n",
      "31\n",
      "32\n",
      "33\n",
      "34\n",
      "35\n",
      "36\n",
      "37\n",
      "38\n",
      "39\n",
      "40\n",
      "41\n",
      "42\n",
      "43\n",
      "44\n",
      "45\n",
      "46\n",
      "47\n",
      "48\n",
      "49\n",
      "20\n",
      "21\n",
      "22\n",
      "23\n",
      "24\n",
      "25\n",
      "26\n",
      "27\n",
      "28\n",
      "29\n",
      "30\n",
      "31\n",
      "32\n",
      "33\n",
      "34\n",
      "35\n",
      "36\n",
      "37\n",
      "38\n",
      "39\n",
      "40\n",
      "41\n",
      "42\n",
      "43\n",
      "44\n",
      "45\n",
      "46\n",
      "47\n",
      "48\n",
      "49\n",
      "50\n",
      "51\n",
      "52\n",
      "53\n",
      "54\n",
      "55\n",
      "56\n",
      "57\n",
      "58\n",
      "59\n",
      "60\n",
      "61\n",
      "62\n",
      "63\n",
      "64\n",
      "65\n",
      "66\n",
      "67\n",
      "68\n",
      "69\n",
      "70\n",
      "71\n",
      "72\n",
      "73\n",
      "74\n",
      "75\n",
      "76\n",
      "77\n",
      "78\n",
      "79\n",
      "80\n",
      "81\n",
      "82\n",
      "83\n",
      "84\n",
      "85\n",
      "86\n",
      "87\n",
      "88\n",
      "89\n",
      "90\n",
      "91\n",
      "92\n",
      "93\n",
      "94\n",
      "95\n",
      "96\n",
      "97\n",
      "98\n",
      "99\n",
      "100\n"
     ]
    }
   ],
   "source": [
    "### threading concept \n",
    "\n",
    "import threading \n",
    "\n",
    "class x(threading.Thread):\n",
    "    def run(self):\n",
    "        for i in range (1,50):\n",
    "            print(i)\n",
    "\n",
    "class y(threading.Thread):\n",
    "    def run(self):\n",
    "        for y in range (1,101):\n",
    "            print(y)\n",
    "x1=x()\n",
    "y1=y()\n",
    "x1.start()\n",
    "y1.start()"
   ]
  },
  {
   "cell_type": "code",
   "execution_count": 8,
   "metadata": {},
   "outputs": [
    {
     "ename": "ModuleNotFoundError",
     "evalue": "No module named 'thread'",
     "output_type": "error",
     "traceback": [
      "\u001b[1;31m---------------------------------------------------------------------------\u001b[0m",
      "\u001b[1;31mModuleNotFoundError\u001b[0m                       Traceback (most recent call last)",
      "\u001b[1;32m<ipython-input-8-4947676303d4>\u001b[0m in \u001b[0;36m<module>\u001b[1;34m()\u001b[0m\n\u001b[0;32m      1\u001b[0m \u001b[1;31m#!/usr/bin/python\u001b[0m\u001b[1;33m\u001b[0m\u001b[1;33m\u001b[0m\u001b[0m\n\u001b[0;32m      2\u001b[0m \u001b[1;32mimport\u001b[0m \u001b[0mthreading\u001b[0m\u001b[1;33m\u001b[0m\u001b[0m\n\u001b[1;32m----> 3\u001b[1;33m \u001b[1;32mimport\u001b[0m \u001b[0mthread\u001b[0m\u001b[1;33m\u001b[0m\u001b[0m\n\u001b[0m\u001b[0;32m      4\u001b[0m \u001b[1;32mimport\u001b[0m \u001b[0mtime\u001b[0m\u001b[1;33m\u001b[0m\u001b[0m\n\u001b[0;32m      5\u001b[0m \u001b[1;32mfrom\u001b[0m \u001b[0msubprocess\u001b[0m \u001b[1;32mimport\u001b[0m \u001b[0mcall\u001b[0m\u001b[1;33m\u001b[0m\u001b[0m\n",
      "\u001b[1;31mModuleNotFoundError\u001b[0m: No module named 'thread'"
     ]
    }
   ],
   "source": [
    "#!/usr/bin/python\n",
    "import threading\n",
    "import thread\n",
    "import time\n",
    "from subprocess import call\n",
    "\n",
    "# Define a function for the thread\n",
    "def print_time( threadName, delay):\n",
    "   count = 0\n",
    "   while count < 10:\n",
    "      time.sleep(delay)\n",
    "      count += 1\n",
    "      #print \"%s: %s\" % ( threadName, time.ctime(time.time()) )\n",
    "      print(\"abi\")\n",
    "      #call([\"python\", \"hi.py\"])\n",
    "def print_tim( threadName, delay):\n",
    "   count = 0\n",
    "   while count < 10:\n",
    "      time.sleep(delay)\n",
    "      count += 1\n",
    "      #print \"%s: %s\" % ( threadName, time.ctime(time.time()) )\n",
    "      print (\"ammu\")\n",
    "      #call([\"python\", \"hello.py\"])\n",
    "# Create two threads as follows\n",
    "try:\n",
    "   thread.start_new_thread( print_time, (\"Thread-1\", 1, ) )\n",
    "   thread.start_new_thread( print_tim, (\"abi\", 1, ) )\n",
    "except:\n",
    "   print (\"Error: unable to start thread\")\n",
    "\n",
    "while 1:\n",
    "   pass\n"
   ]
  },
  {
   "cell_type": "code",
   "execution_count": null,
   "metadata": {},
   "outputs": [],
   "source": []
  },
  {
   "cell_type": "code",
   "execution_count": null,
   "metadata": {},
   "outputs": [],
   "source": []
  },
  {
   "cell_type": "code",
   "execution_count": null,
   "metadata": {},
   "outputs": [],
   "source": []
  },
  {
   "cell_type": "code",
   "execution_count": null,
   "metadata": {},
   "outputs": [],
   "source": []
  },
  {
   "cell_type": "code",
   "execution_count": null,
   "metadata": {},
   "outputs": [],
   "source": []
  },
  {
   "cell_type": "code",
   "execution_count": 86,
   "metadata": {},
   "outputs": [],
   "source": [
    "import requests\n",
    "import json\n",
    "\n",
    "send_url = \"http://api.ipstack.com/103.81.238.70?access_key=fd6343bfa5930cc9248b7e4a28ee7d0a\"\n",
    "geo_req = requests.get(send_url)\n",
    "geo_json = json.loads(geo_req.text)\n",
    "latitude = geo_json['latitude']\n",
    "longitude = geo_json['longitude']\n",
    "city = geo_json['city']"
   ]
  },
  {
   "cell_type": "code",
   "execution_count": 87,
   "metadata": {},
   "outputs": [
    {
     "name": "stdout",
     "output_type": "stream",
     "text": [
      "13.087\n",
      "80.2456\n",
      "Chennai\n"
     ]
    }
   ],
   "source": [
    "print(latitude)\n",
    "print(longitude)\n",
    "print(city) "
   ]
  },
  {
   "cell_type": "code",
   "execution_count": 8,
   "metadata": {},
   "outputs": [],
   "source": [
    "l=['a','d','a','e','f','d']\n",
    "nl=list(dict.fromkeys(l))"
   ]
  },
  {
   "cell_type": "code",
   "execution_count": 9,
   "metadata": {},
   "outputs": [
    {
     "data": {
      "text/plain": [
       "['a', 'd', 'e', 'f']"
      ]
     },
     "execution_count": 9,
     "metadata": {},
     "output_type": "execute_result"
    }
   ],
   "source": [
    "nl"
   ]
  },
  {
   "cell_type": "markdown",
   "metadata": {},
   "source": [
    "## DateTime "
   ]
  },
  {
   "cell_type": "code",
   "execution_count": 7,
   "metadata": {},
   "outputs": [],
   "source": [
    "from datetime import date\n",
    "\n",
    "from datetime import time\n",
    "\n",
    "from datetime import datetime"
   ]
  },
  {
   "cell_type": "code",
   "execution_count": null,
   "metadata": {},
   "outputs": [],
   "source": []
  },
  {
   "cell_type": "code",
   "execution_count": 10,
   "metadata": {},
   "outputs": [
    {
     "name": "stdout",
     "output_type": "stream",
     "text": [
      "2019-09-04\n",
      "my today date is 2019-09-04\n"
     ]
    }
   ],
   "source": [
    "from datetime import date\n",
    "\n",
    "print (date.today())\n",
    "print(\"my today date is\",date.today())"
   ]
  },
  {
   "cell_type": "code",
   "execution_count": 95,
   "metadata": {},
   "outputs": [
    {
     "name": "stdout",
     "output_type": "stream",
     "text": [
      "2019-09-05\n",
      "5\n",
      "9\n",
      "2019\n",
      "3\n"
     ]
    },
    {
     "ename": "TypeError",
     "evalue": "unsupported operand type(s) for -: 'datetime.date' and 'int'",
     "output_type": "error",
     "traceback": [
      "\u001b[1;31m---------------------------------------------------------------------------\u001b[0m",
      "\u001b[1;31mTypeError\u001b[0m                                 Traceback (most recent call last)",
      "\u001b[1;32m<ipython-input-95-34df90c106e5>\u001b[0m in \u001b[0;36m<module>\u001b[1;34m()\u001b[0m\n\u001b[0;32m      6\u001b[0m \u001b[0mweekday\u001b[0m\u001b[1;33m=\u001b[0m\u001b[0mtoday\u001b[0m\u001b[1;33m.\u001b[0m\u001b[0mweekday\u001b[0m\u001b[1;33m(\u001b[0m\u001b[1;33m)\u001b[0m\u001b[1;33m\u001b[0m\u001b[0m\n\u001b[0;32m      7\u001b[0m \u001b[0mprint\u001b[0m\u001b[1;33m(\u001b[0m\u001b[0mweekday\u001b[0m\u001b[1;33m)\u001b[0m\u001b[1;33m\u001b[0m\u001b[0m\n\u001b[1;32m----> 8\u001b[1;33m \u001b[0mprint\u001b[0m\u001b[1;33m(\u001b[0m\u001b[0mtoday\u001b[0m\u001b[1;33m-\u001b[0m\u001b[1;36m1\u001b[0m\u001b[1;33m)\u001b[0m\u001b[1;33m\u001b[0m\u001b[0m\n\u001b[0m",
      "\u001b[1;31mTypeError\u001b[0m: unsupported operand type(s) for -: 'datetime.date' and 'int'"
     ]
    }
   ],
   "source": [
    "today=date.today()\n",
    "print(today)\n",
    "print(today.day)\n",
    "print(today.month)\n",
    "print(today.year)\n",
    "weekday=today.weekday()\n",
    "print(weekday)"
   ]
  },
  {
   "cell_type": "code",
   "execution_count": 72,
   "metadata": {},
   "outputs": [
    {
     "name": "stdout",
     "output_type": "stream",
     "text": [
      "2019-09-05 19:12:08.189462\n"
     ]
    }
   ],
   "source": [
    "print(datetime.now())"
   ]
  },
  {
   "cell_type": "code",
   "execution_count": 22,
   "metadata": {},
   "outputs": [
    {
     "name": "stdout",
     "output_type": "stream",
     "text": [
      "2019-09-04 06:59:22.475993\n"
     ]
    }
   ],
   "source": [
    "#current time \n",
    "time=datetime.now()\n",
    "print(time)"
   ]
  },
  {
   "cell_type": "code",
   "execution_count": 24,
   "metadata": {},
   "outputs": [
    {
     "name": "stdout",
     "output_type": "stream",
     "text": [
      "2019-09-04 07:02:27.653686\n"
     ]
    }
   ],
   "source": [
    "#data formatting\n",
    "\n",
    "now=datetime.now()\n",
    "print(now)"
   ]
  },
  {
   "cell_type": "code",
   "execution_count": null,
   "metadata": {},
   "outputs": [],
   "source": [
    "#   [(%y/%Y – Year), (%a/%A- weekday), (%b/%B- month), (%d - day of month)] "
   ]
  },
  {
   "cell_type": "code",
   "execution_count": 33,
   "metadata": {},
   "outputs": [
    {
     "name": "stdout",
     "output_type": "stream",
     "text": [
      "2019\n",
      "Wednesday\n",
      "September\n",
      "04\n"
     ]
    }
   ],
   "source": [
    "print(now.strftime(\"%Y\")) #print(now.strftime(%Y))\n",
    "print(now.strftime(\"%A\"))\n",
    "print(now.strftime(\"%B\"))\n",
    "print(now.strftime(\"%d\"))"
   ]
  },
  {
   "cell_type": "code",
   "execution_count": 34,
   "metadata": {},
   "outputs": [
    {
     "name": "stdout",
     "output_type": "stream",
     "text": [
      "Wed,09/04/19,September,2019\n"
     ]
    }
   ],
   "source": [
    "print(now.strftime(\"%a,%D,%B,%Y\"))"
   ]
  },
  {
   "cell_type": "code",
   "execution_count": 39,
   "metadata": {},
   "outputs": [
    {
     "name": "stdout",
     "output_type": "stream",
     "text": [
      "Today is day number 2\n",
      "which is a wednesday\n"
     ]
    }
   ],
   "source": [
    "from datetime import date\n",
    "from datetime import time\n",
    "from datetime import datetime\n",
    "def main():\n",
    "    ##DATETIME OBJECTS\n",
    "    #Get today's date from datetime class\n",
    "    today=datetime.now()\n",
    "    #print (today)\n",
    "    # Get the current time\n",
    "    #t = datetime.time(datetime.now())\n",
    "    #print \"The current time is\", t\n",
    "    #weekday returns 0 (monday) through 6 (sunday)\n",
    "    wd=date.weekday(today)\n",
    "    #Days start at 0 for monday\n",
    "    days= [\"monday\",\"tuesday\",\"wednesday\",\"thursday\",\"friday\",\"saturday\",\"sunday\"]\n",
    "    print(\"Today is day number %d\" % wd)\n",
    "    print(\"which is a \" + days[wd])\n",
    "\n",
    "if __name__== \"__main__\":\n",
    "    main()"
   ]
  },
  {
   "cell_type": "markdown",
   "metadata": {},
   "source": [
    "%C- indicates the local date and time\n",
    "%x- indicates the local date\n",
    "%X- indicates the local time"
   ]
  },
  {
   "cell_type": "code",
   "execution_count": 37,
   "metadata": {},
   "outputs": [
    {
     "name": "stdout",
     "output_type": "stream",
     "text": [
      "20\n",
      "09/04/19\n",
      "07:09:42\n"
     ]
    }
   ],
   "source": [
    "now=datetime.now()\n",
    "print(now.strftime(\"%C\"))\n",
    "print(now.strftime(\"%x\"))\n",
    "print(now.strftime(\"%X\"))"
   ]
  },
  {
   "cell_type": "code",
   "execution_count": 38,
   "metadata": {},
   "outputs": [
    {
     "name": "stdout",
     "output_type": "stream",
     "text": [
      "Wed Sep  4 07:11:26 2019\n",
      "09/04/19\n",
      "07:11:26\n",
      "07:11:26 AM\n",
      "07:11\n"
     ]
    }
   ],
   "source": [
    "#\n",
    "#Example file for formatting time and date output\n",
    "#\n",
    "from datetime import datetime\n",
    "def main():\n",
    "   #Times and dates can be formatted using a set of predefined string\n",
    "   #Control codes\n",
    "      now= datetime.now() #get the current date and time\n",
    "      #%c - local date and time, %x-local's date, %X- local's time\n",
    "      print(now.strftime(\"%c\"))\n",
    "      print(now.strftime(\"%x\"))\n",
    "      print(now.strftime(\"%X\"))\n",
    "##### Time Formatting ####\n",
    "      #%I/%H - 12/24 Hour, %M - minute, %S - second, %p - local's AM/PM\n",
    "      print(now.strftime(\"%I:%M:%S %p\")) # 12-Hour:Minute:Second:AM\n",
    "      print(now.strftime(\"%H:%M\")) # 24-Hour:Minute\n",
    "\n",
    "if __name__== \"__main__\":\n",
    "    main()"
   ]
  },
  {
   "cell_type": "markdown",
   "metadata": {},
   "source": [
    "#### Assertions are simply boolean expressions that checks if the conditions return true or not. If it is true, the program does nothing and move to the next line of code.\n",
    "#### However, if it's false, the program stops and throws an error.It is also a debugging tool as it brings the program on halt as soon as any error is occurred and shows on which point of the program error has occurred."
   ]
  },
  {
   "cell_type": "code",
   "execution_count": 43,
   "metadata": {},
   "outputs": [
    {
     "ename": "AssertionError",
     "evalue": "",
     "output_type": "error",
     "traceback": [
      "\u001b[1;31m---------------------------------------------------------------------------\u001b[0m",
      "\u001b[1;31mAssertionError\u001b[0m                            Traceback (most recent call last)",
      "\u001b[1;32m<ipython-input-43-255728e46539>\u001b[0m in \u001b[0;36m<module>\u001b[1;34m()\u001b[0m\n\u001b[0;32m      5\u001b[0m \u001b[1;33m\u001b[0m\u001b[0m\n\u001b[0;32m      6\u001b[0m \u001b[1;31m#if condition returns False, AssertionError is raised:\u001b[0m\u001b[1;33m\u001b[0m\u001b[1;33m\u001b[0m\u001b[0m\n\u001b[1;32m----> 7\u001b[1;33m \u001b[1;32massert\u001b[0m \u001b[0mx\u001b[0m \u001b[1;33m==\u001b[0m \u001b[1;34m\"goodbye\"\u001b[0m\u001b[1;33m\u001b[0m\u001b[0m\n\u001b[0m",
      "\u001b[1;31mAssertionError\u001b[0m: "
     ]
    }
   ],
   "source": [
    "x = \"hello\"\n",
    "\n",
    "#if condition returns True, then nothing happens:\n",
    "assert x == \"hello\"\n",
    "\n",
    "#if condition returns False, AssertionError is raised:\n",
    "assert x == \"goodbye\""
   ]
  },
  {
   "cell_type": "code",
   "execution_count": 44,
   "metadata": {},
   "outputs": [
    {
     "name": "stdout",
     "output_type": "stream",
     "text": [
      "Enter a number: 1\n",
      "You entered:  1\n"
     ]
    }
   ],
   "source": [
    "num=int(input('Enter a number: '))\n",
    "assert num>=0\n",
    "print('You entered: ', num)"
   ]
  },
  {
   "cell_type": "code",
   "execution_count": 41,
   "metadata": {},
   "outputs": [
    {
     "name": "stdout",
     "output_type": "stream",
     "text": [
      "40 is O.K\n",
      "26 is O.K\n",
      "39 is O.K\n",
      "30 is O.K\n"
     ]
    },
    {
     "ename": "AssertionError",
     "evalue": "Batch is Rejected",
     "output_type": "error",
     "traceback": [
      "\u001b[1;31m---------------------------------------------------------------------------\u001b[0m",
      "\u001b[1;31mAssertionError\u001b[0m                            Traceback (most recent call last)",
      "\u001b[1;32m<ipython-input-41-c635c0c5ec6f>\u001b[0m in \u001b[0;36m<module>\u001b[1;34m()\u001b[0m\n\u001b[0;32m     11\u001b[0m \u001b[1;31m# using assert to check for temperature greater than cut\u001b[0m\u001b[1;33m\u001b[0m\u001b[1;33m\u001b[0m\u001b[0m\n\u001b[0;32m     12\u001b[0m \u001b[1;32mfor\u001b[0m \u001b[0mi\u001b[0m \u001b[1;32min\u001b[0m \u001b[0mbatch\u001b[0m\u001b[1;33m:\u001b[0m\u001b[1;33m\u001b[0m\u001b[0m\n\u001b[1;32m---> 13\u001b[1;33m     \u001b[1;32massert\u001b[0m \u001b[0mi\u001b[0m \u001b[1;33m>=\u001b[0m \u001b[1;36m26\u001b[0m\u001b[1;33m,\u001b[0m \u001b[1;34m\"Batch is Rejected\"\u001b[0m\u001b[1;33m\u001b[0m\u001b[0m\n\u001b[0m\u001b[0;32m     14\u001b[0m     \u001b[0mprint\u001b[0m \u001b[1;33m(\u001b[0m\u001b[0mstr\u001b[0m\u001b[1;33m(\u001b[0m\u001b[0mi\u001b[0m\u001b[1;33m)\u001b[0m \u001b[1;33m+\u001b[0m \u001b[1;34m\" is O.K\"\u001b[0m \u001b[1;33m)\u001b[0m\u001b[1;33m\u001b[0m\u001b[0m\n",
      "\u001b[1;31mAssertionError\u001b[0m: Batch is Rejected"
     ]
    }
   ],
   "source": [
    "# Python 3 code to demonstrate  \n",
    "# working of assert  \n",
    "# Application \n",
    "  \n",
    "# initializing list of foods temperatures \n",
    "batch = [ 40, 26, 39, 30, 25, 21,27] \n",
    "  \n",
    "# initializing cut temperature \n",
    "cut = 26\n",
    "  \n",
    "# using assert to check for temperature greater than cut \n",
    "for i in batch: \n",
    "    assert i >= 26, \"Batch is Rejected\"\n",
    "    print (str(i) + \" is O.K\" )"
   ]
  },
  {
   "cell_type": "code",
   "execution_count": null,
   "metadata": {},
   "outputs": [],
   "source": [
    "import tkinter as tk \n",
    "r = tk.Tk() \n",
    "r.title('Counting Seconds') \n",
    "button = tk.Button(r, text='Stop', width=25, command=r.destroy) \n",
    "button.pack() \n",
    "r.mainloop() "
   ]
  },
  {
   "cell_type": "code",
   "execution_count": 10,
   "metadata": {},
   "outputs": [],
   "source": [
    "from tkinter import *\n",
    "master = Tk() \n",
    "Label(master, text='First Name').grid(row=0) \n",
    "Label(master, text='Last Name').grid(row=1) \n",
    "e1 = Entry(master) \n",
    "e2 = Entry(master) \n",
    "e1.grid(row=0, column=1) \n",
    "e2.grid(row=1, column=1) \n",
    "mainloop() "
   ]
  },
  {
   "cell_type": "markdown",
   "metadata": {},
   "source": [
    "## Regular expression"
   ]
  },
  {
   "cell_type": "code",
   "execution_count": 1,
   "metadata": {},
   "outputs": [
    {
     "name": "stdout",
     "output_type": "stream",
     "text": [
      "<_sre.SRE_Match object; span=(0, 14), match='The news paper'>\n",
      "YES! We have a match!\n"
     ]
    }
   ],
   "source": [
    "import re\n",
    "\n",
    "#Check if the string starts with \"The\" and ends with \"paper\":\n",
    "\n",
    "txt = \"The news paper\"\n",
    "x = re.search(\"^The.*paper$\", txt)\n",
    "print(x)\n",
    "if (x):\n",
    "  print(\"YES! We have a match!\")\n",
    "else:\n",
    "  print(\"No match\")"
   ]
  },
  {
   "cell_type": "code",
   "execution_count": 85,
   "metadata": {},
   "outputs": [
    {
     "name": "stdout",
     "output_type": "stream",
     "text": [
      "['pa', 'pa']\n"
     ]
    }
   ],
   "source": [
    "import re\n",
    "\n",
    "str = \"The news paper paper\"\n",
    "x = re.findall(\"pa\", str)\n",
    "print(x)"
   ]
  },
  {
   "cell_type": "code",
   "execution_count": 86,
   "metadata": {},
   "outputs": [
    {
     "name": "stdout",
     "output_type": "stream",
     "text": [
      "[]\n"
     ]
    }
   ],
   "source": [
    "import re\n",
    "\n",
    "str = \"The news paper\"\n",
    "x = re.findall(\"Portugal\", str)\n",
    "print(x)"
   ]
  },
  {
   "cell_type": "code",
   "execution_count": 87,
   "metadata": {},
   "outputs": [
    {
     "name": "stdout",
     "output_type": "stream",
     "text": [
      "The first white-space character is located in position: 3\n"
     ]
    }
   ],
   "source": [
    "import re\n",
    "\n",
    "str = \"The news paper\"\n",
    "x = re.search(\"\\s\", str)\n",
    "\n",
    "print(\"The first white-space character is located in position:\", x.start())"
   ]
  },
  {
   "cell_type": "code",
   "execution_count": 49,
   "metadata": {},
   "outputs": [
    {
     "name": "stdout",
     "output_type": "stream",
     "text": [
      "None\n"
     ]
    }
   ],
   "source": [
    "import re\n",
    "\n",
    "str = \"The rain in Spain\"\n",
    "x = re.search(\"Portugal\", str)\n",
    "print(x)"
   ]
  },
  {
   "cell_type": "code",
   "execution_count": 50,
   "metadata": {},
   "outputs": [
    {
     "data": {
      "text/plain": [
       "['Anal', 'tics']"
      ]
     },
     "execution_count": 50,
     "metadata": {},
     "output_type": "execute_result"
    }
   ],
   "source": [
    "result=re.split(r'y','Analytics')\n",
    "result"
   ]
  },
  {
   "cell_type": "code",
   "execution_count": 51,
   "metadata": {},
   "outputs": [
    {
     "name": "stdout",
     "output_type": "stream",
     "text": [
      "['The', 'rain', 'in', 'Spain']\n"
     ]
    }
   ],
   "source": [
    "import re\n",
    "\n",
    "str = \"The rain in Spain\"\n",
    "x = re.split(\"\\s\", str)  #it will split the word, when white space is there \n",
    "print(x)"
   ]
  },
  {
   "cell_type": "code",
   "execution_count": 52,
   "metadata": {},
   "outputs": [
    {
     "name": "stdout",
     "output_type": "stream",
     "text": [
      "['The', 'rain in Spain']\n"
     ]
    }
   ],
   "source": [
    "import re\n",
    "\n",
    "str = \"The rain in Spain\"\n",
    "x = re.split(\"\\s\", str, 1)\n",
    "print(x)"
   ]
  },
  {
   "cell_type": "code",
   "execution_count": 53,
   "metadata": {},
   "outputs": [
    {
     "name": "stdout",
     "output_type": "stream",
     "text": [
      "The9rain9in9Spain\n"
     ]
    }
   ],
   "source": [
    "import re\n",
    "\n",
    "str = \"The rain in Spain\"\n",
    "x = re.sub(\"\\s\", \"9\", str)  # sub is replace \n",
    "print(x)"
   ]
  },
  {
   "cell_type": "code",
   "execution_count": 54,
   "metadata": {},
   "outputs": [
    {
     "name": "stdout",
     "output_type": "stream",
     "text": [
      "(12, 17)\n"
     ]
    }
   ],
   "source": [
    "import re\n",
    "str = \"The rain in Spain\"\n",
    "x = re.search(r\"\\bS\\w+\", str)\n",
    "print(x.span())"
   ]
  },
  {
   "cell_type": "code",
   "execution_count": 97,
   "metadata": {},
   "outputs": [
    {
     "name": "stdout",
     "output_type": "stream",
     "text": [
      "True\n"
     ]
    }
   ],
   "source": [
    "l=[False,True,True]\n",
    "a=any(l)\n",
    "print(a)"
   ]
  },
  {
   "cell_type": "markdown",
   "metadata": {},
   "source": [
    "### import math, os, sys"
   ]
  },
  {
   "cell_type": "code",
   "execution_count": 57,
   "metadata": {},
   "outputs": [
    {
     "ename": "SyntaxError",
     "evalue": "Missing parentheses in call to 'print'. Did you mean print(math.pi)? (<ipython-input-57-7b869c32f676>, line 9)",
     "output_type": "error",
     "traceback": [
      "\u001b[1;36m  File \u001b[1;32m\"<ipython-input-57-7b869c32f676>\"\u001b[1;36m, line \u001b[1;32m9\u001b[0m\n\u001b[1;33m    print math.pi\u001b[0m\n\u001b[1;37m             ^\u001b[0m\n\u001b[1;31mSyntaxError\u001b[0m\u001b[1;31m:\u001b[0m Missing parentheses in call to 'print'. Did you mean print(math.pi)?\n"
     ]
    }
   ],
   "source": [
    "# importing built-in module math \n",
    "import math \n",
    "  \n",
    "# using square root(sqrt) function contained  \n",
    "# in math module \n",
    "print (math.sqrt(25)  )\n",
    "  \n",
    "# using pi function contained in math module \n",
    "print math.pi  \n",
    "  \n",
    "# 2 radians = 114.59 degreees \n",
    "print math.degrees(2)  \n",
    "  \n",
    "# 60 degrees = 1.04 radians \n",
    "print math.radians(60)  \n",
    "  \n",
    "# Sine of 2 radians \n",
    "print math.sin(2)  \n",
    "  \n",
    "# Cosine of 0.5 radians \n",
    "print math.cos(0.5)  \n",
    "  \n",
    "# Tangent of 0.23 radians \n",
    "print math.tan(0.23) \n",
    "  \n",
    "# 1 * 2 * 3 * 4 = 24 \n",
    "print math.factorial(4)  \n",
    "  \n",
    "  \n",
    "# importing built in module random \n",
    "import random \n",
    "  \n",
    "# printing random integer between 0 and 5 \n",
    "print random.randint(0, 5)  \n",
    "  \n",
    "# print random floating point number between 0 and 1 \n",
    "print random.random()  \n",
    "  \n",
    "# random number between 0 and 100 \n",
    "print random.random() * 100 \n",
    "  \n",
    "List = [1, 4, True, 800, \"python\", 27, \"hello\"] \n",
    "  \n",
    "# using choice function in random module for choosing  \n",
    "# a random element from a set such as a list \n",
    "print random.choice(List) \n",
    "  \n",
    "  \n",
    "# importing built in module datetime \n",
    "import datetime \n",
    "from datetime import date \n",
    "import time \n",
    "  \n",
    "# Returns the number of seconds since the \n",
    "# Unix Epoch, January 1st 1970 \n",
    "print time.time()  \n",
    "  \n",
    "# Converts a number of seconds to a date object \n",
    "print date.fromtimestamp(454554)  "
   ]
  },
  {
   "cell_type": "code",
   "execution_count": 88,
   "metadata": {},
   "outputs": [
    {
     "data": {
      "text/plain": [
       "['',\n",
       " 'C:\\\\Users\\\\Murugan\\\\Anaconda3\\\\python36.zip',\n",
       " 'C:\\\\Users\\\\Murugan\\\\Anaconda3\\\\DLLs',\n",
       " 'C:\\\\Users\\\\Murugan\\\\Anaconda3\\\\lib',\n",
       " 'C:\\\\Users\\\\Murugan\\\\Anaconda3',\n",
       " 'C:\\\\Users\\\\Murugan\\\\Anaconda3\\\\lib\\\\site-packages',\n",
       " 'C:\\\\Users\\\\Murugan\\\\Anaconda3\\\\lib\\\\site-packages\\\\win32',\n",
       " 'C:\\\\Users\\\\Murugan\\\\Anaconda3\\\\lib\\\\site-packages\\\\win32\\\\lib',\n",
       " 'C:\\\\Users\\\\Murugan\\\\Anaconda3\\\\lib\\\\site-packages\\\\Pythonwin',\n",
       " 'C:\\\\Users\\\\Murugan\\\\Anaconda3\\\\lib\\\\site-packages\\\\IPython\\\\extensions',\n",
       " 'C:\\\\Users\\\\Murugan\\\\.ipython']"
      ]
     },
     "execution_count": 88,
     "metadata": {},
     "output_type": "execute_result"
    }
   ],
   "source": [
    "import sys\n",
    "sys.path"
   ]
  },
  {
   "cell_type": "code",
   "execution_count": 89,
   "metadata": {},
   "outputs": [
    {
     "data": {
      "text/plain": [
       "'3.6.5 |Anaconda, Inc.| (default, Mar 29 2018, 13:32:41) [MSC v.1900 64 bit (AMD64)]'"
      ]
     },
     "execution_count": 89,
     "metadata": {},
     "output_type": "execute_result"
    }
   ],
   "source": [
    "sys.version"
   ]
  },
  {
   "cell_type": "code",
   "execution_count": 92,
   "metadata": {},
   "outputs": [
    {
     "name": "stdout",
     "output_type": "stream",
     "text": [
      "<ipykernel.iostream.OutStream object at 0x000001DE88114128>\n"
     ]
    }
   ],
   "source": [
    "import sys\n",
    "\n",
    "#print(\"Coming through stdout\")\n",
    "\n",
    "# stdout is saved\n",
    "save_stdout = sys.stdout\n",
    "print(save_stdout)"
   ]
  },
  {
   "cell_type": "markdown",
   "metadata": {},
   "source": [
    "   ### COLLECTIONS"
   ]
  },
  {
   "cell_type": "code",
   "execution_count": 59,
   "metadata": {},
   "outputs": [
    {
     "name": "stdout",
     "output_type": "stream",
     "text": [
      "deque(['a', 'b', 'c'])\n"
     ]
    }
   ],
   "source": [
    "                                        #deque\n",
    "\n",
    "from collections import deque\n",
    "list = [\"a\",\"b\",\"c\"]\n",
    "deq = deque(list)\n",
    "print(deq)"
   ]
  },
  {
   "cell_type": "code",
   "execution_count": 60,
   "metadata": {},
   "outputs": [
    {
     "name": "stdout",
     "output_type": "stream",
     "text": [
      "deque(['e', 'a', 'b', 'c', 'd'])\n"
     ]
    }
   ],
   "source": [
    "deq.append(\"d\")\n",
    "deq.appendleft(\"e\")\n",
    "print(deq)"
   ]
  },
  {
   "cell_type": "code",
   "execution_count": 61,
   "metadata": {},
   "outputs": [
    {
     "name": "stdout",
     "output_type": "stream",
     "text": [
      "deque(['a', 'b', 'c'])\n"
     ]
    }
   ],
   "source": [
    "deq.pop()\n",
    "deq.popleft()\n",
    "print(deq)"
   ]
  },
  {
   "cell_type": "code",
   "execution_count": 62,
   "metadata": {},
   "outputs": [
    {
     "data": {
      "text/plain": [
       "Counter({1: 3, 2: 2, 3: 2, 4: 1, 6: 1, 7: 1, 8: 1})"
      ]
     },
     "execution_count": 62,
     "metadata": {},
     "output_type": "execute_result"
    }
   ],
   "source": [
    "                                        #Counter \n",
    "\n",
    "from collections import Counter\n",
    "list = [1,2,3,4,1,2,6,7,3,8,1]\n",
    "Counter(list)"
   ]
  },
  {
   "cell_type": "code",
   "execution_count": 63,
   "metadata": {},
   "outputs": [
    {
     "name": "stdout",
     "output_type": "stream",
     "text": [
      "3\n"
     ]
    }
   ],
   "source": [
    "list = [1,2,3,4,1,2,6,7,3,8,1]\n",
    "cnt = Counter(list)\n",
    "print(cnt[1])"
   ]
  },
  {
   "cell_type": "code",
   "execution_count": 94,
   "metadata": {},
   "outputs": [
    {
     "name": "stdout",
     "output_type": "stream",
     "text": [
      "Red 198\n",
      "Blue 160\n",
      "Green 170\n"
     ]
    }
   ],
   "source": [
    "                                        # OrderedDict\n",
    "\n",
    "colours =  {\"Red\" : 198, \"Blue\" : 160, \"Green\" : 170}\n",
    "for key, value in colours.items():\n",
    "    print(key, value)"
   ]
  },
  {
   "cell_type": "code",
   "execution_count": 66,
   "metadata": {},
   "outputs": [
    {
     "name": "stdout",
     "output_type": "stream",
     "text": [
      "Red 198\n",
      "Green 170\n",
      "Blue 160\n"
     ]
    }
   ],
   "source": [
    "from collections import OrderedDict\n",
    "\n",
    "colours = OrderedDict([(\"Red\", 198), (\"Green\", 170), (\"Blue\", 160)])\n",
    "for key, value in colours.items():\n",
    "    print(key, value)"
   ]
  },
  {
   "cell_type": "markdown",
   "metadata": {},
   "source": [
    "### Python Membership (in, not in) and Identity Operators (is, is not)"
   ]
  },
  {
   "cell_type": "code",
   "execution_count": 3,
   "metadata": {},
   "outputs": [
    {
     "name": "stdout",
     "output_type": "stream",
     "text": [
      "Line 1 - a is not available in the given list\n",
      "Line 2 - b is not available in the given list\n"
     ]
    }
   ],
   "source": [
    "a = 10\n",
    "b = 20\n",
    "list = [1, 2, 3, 4, 5 ];\n",
    "\n",
    "if ( a in list ):\n",
    "   print (\"Line 1 - a is available in the given list\")\n",
    "else:\n",
    "   print (\"Line 1 - a is not available in the given list\")\n",
    "\n",
    "if ( b not in list ):\n",
    "   print (\"Line 2 - b is not available in the given list\")\n",
    "else:\n",
    "   print (\"Line 2 - b is available in the given list\")"
   ]
  },
  {
   "cell_type": "code",
   "execution_count": 68,
   "metadata": {},
   "outputs": [
    {
     "name": "stdout",
     "output_type": "stream",
     "text": [
      "true\n"
     ]
    }
   ],
   "source": [
    "# Python program to illustrate the use  \n",
    "# of 'is' identity operator \n",
    "x = 5\n",
    "if (type(x) is int): \n",
    "    print (\"true\") \n",
    "else: \n",
    "    print (\"false\") "
   ]
  },
  {
   "cell_type": "code",
   "execution_count": 1,
   "metadata": {},
   "outputs": [
    {
     "name": "stdout",
     "output_type": "stream",
     "text": [
      "true\n"
     ]
    }
   ],
   "source": [
    "# Python program to illustrate the  \n",
    "# use of 'is not' identity operator \n",
    "x = 5.2\n",
    "if (type(x) is not int): \n",
    "    print (\"true\") \n",
    "else: \n",
    "    print (\"false\")"
   ]
  },
  {
   "cell_type": "code",
   "execution_count": 70,
   "metadata": {},
   "outputs": [],
   "source": [
    "###        http://www.mysqltutorial.org/python-mysql/\n",
    "\n",
    "###        https://www.datacamp.com/community/tutorials/mysql-python"
   ]
  },
  {
   "cell_type": "code",
   "execution_count": null,
   "metadata": {},
   "outputs": [],
   "source": []
  }
 ],
 "metadata": {
  "kernelspec": {
   "display_name": "Python 3",
   "language": "python",
   "name": "python3"
  },
  "language_info": {
   "codemirror_mode": {
    "name": "ipython",
    "version": 3
   },
   "file_extension": ".py",
   "mimetype": "text/x-python",
   "name": "python",
   "nbconvert_exporter": "python",
   "pygments_lexer": "ipython3",
   "version": "3.6.5"
  }
 },
 "nbformat": 4,
 "nbformat_minor": 2
}
